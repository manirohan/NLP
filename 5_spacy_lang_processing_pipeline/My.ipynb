{
 "cells": [
  {
   "cell_type": "code",
   "execution_count": 1,
   "id": "88289388-5386-4dbb-82ae-1964073bff28",
   "metadata": {},
   "outputs": [],
   "source": [
    "import spacy"
   ]
  },
  {
   "cell_type": "code",
   "execution_count": 3,
   "id": "1c33f1a9-9472-451a-a919-f40b25fcb850",
   "metadata": {},
   "outputs": [
    {
     "name": "stdout",
     "output_type": "stream",
     "text": [
      "Captain\n",
      "america\n",
      "ate\n",
      "100\n",
      "$\n",
      "of\n",
      "samosa\n",
      ".\n",
      "Then\n",
      "he\n",
      "said\n",
      "I\n",
      "can\n",
      "do\n",
      "this\n",
      "all\n",
      "day\n",
      ".\n"
     ]
    }
   ],
   "source": [
    "nlp = spacy.blank('en')\n",
    "\n",
    "doc = nlp(\"Captain america ate 100$ of samosa. Then he said I can do this all day.\")\n",
    "\n",
    "for token in doc:\n",
    "    print(token)"
   ]
  },
  {
   "cell_type": "code",
   "execution_count": 5,
   "id": "f0253190-d818-4c17-a661-aedfc54088ef",
   "metadata": {},
   "outputs": [
    {
     "data": {
      "text/plain": [
       "[]"
      ]
     },
     "execution_count": 5,
     "metadata": {},
     "output_type": "execute_result"
    }
   ],
   "source": [
    "nlp.pipe_names"
   ]
  },
  {
   "cell_type": "code",
   "execution_count": 3,
   "id": "8724a045-a007-4833-bd54-5422e865a94c",
   "metadata": {},
   "outputs": [],
   "source": [
    "nlp = spacy.load('en_core_web_sm')"
   ]
  },
  {
   "cell_type": "code",
   "execution_count": 5,
   "id": "9c7234e8-b0ae-4c3e-8d07-6e6a7b275767",
   "metadata": {},
   "outputs": [
    {
     "data": {
      "text/plain": [
       "['tok2vec', 'tagger', 'parser', 'attribute_ruler', 'lemmatizer', 'ner']"
      ]
     },
     "execution_count": 5,
     "metadata": {},
     "output_type": "execute_result"
    }
   ],
   "source": [
    "nlp.pipe_names"
   ]
  },
  {
   "cell_type": "code",
   "execution_count": 9,
   "id": "d410320c-8b6f-4dd0-adb1-4c5aa9ecb175",
   "metadata": {},
   "outputs": [
    {
     "data": {
      "text/plain": [
       "[('tok2vec', <spacy.pipeline.tok2vec.Tok2Vec at 0x177b51df0>),\n",
       " ('tagger', <spacy.pipeline.tagger.Tagger at 0x177b52cf0>),\n",
       " ('parser', <spacy.pipeline.dep_parser.DependencyParser at 0x162ebf760>),\n",
       " ('attribute_ruler',\n",
       "  <spacy.pipeline.attributeruler.AttributeRuler at 0x177ca8190>),\n",
       " ('lemmatizer', <spacy.lang.en.lemmatizer.EnglishLemmatizer at 0x177ca5fd0>),\n",
       " ('ner', <spacy.pipeline.ner.EntityRecognizer at 0x17773a7a0>)]"
      ]
     },
     "execution_count": 9,
     "metadata": {},
     "output_type": "execute_result"
    }
   ],
   "source": [
    "nlp.pipeline"
   ]
  },
  {
   "cell_type": "code",
   "execution_count": 11,
   "id": "2fe6c2b0-91da-49df-95f9-263f6281a756",
   "metadata": {},
   "outputs": [],
   "source": [
    "doc = nlp(\"Captain america ate 100$ of samosa. Then he said I can do this all day.\")\n"
   ]
  },
  {
   "cell_type": "code",
   "execution_count": 17,
   "id": "6de02347-c1a0-4c59-a0eb-7f3fb0f2fae9",
   "metadata": {},
   "outputs": [
    {
     "name": "stdout",
     "output_type": "stream",
     "text": [
      "Captain  -  PROPN  -  proper noun\n",
      "america  -  PROPN  -  proper noun\n",
      "ate  -  VERB  -  verb\n",
      "100  -  NUM  -  numeral\n",
      "$  -  NUM  -  numeral\n",
      "of  -  ADP  -  adposition\n",
      "samosa  -  PROPN  -  proper noun\n",
      ".  -  PUNCT  -  punctuation\n",
      "Then  -  ADV  -  adverb\n",
      "he  -  PRON  -  pronoun\n",
      "said  -  VERB  -  verb\n",
      "I  -  PRON  -  pronoun\n",
      "can  -  AUX  -  auxiliary\n",
      "do  -  VERB  -  verb\n",
      "this  -  PRON  -  pronoun\n",
      "all  -  DET  -  determiner\n",
      "day  -  NOUN  -  noun\n",
      ".  -  PUNCT  -  punctuation\n"
     ]
    }
   ],
   "source": [
    "for token in doc:\n",
    "    print(token,' - ',token.pos_,' - ',spacy.explain(token.pos_))"
   ]
  },
  {
   "cell_type": "code",
   "execution_count": 51,
   "id": "cb1bd6ef-014e-48de-bafe-012707641dec",
   "metadata": {},
   "outputs": [
    {
     "name": "stdout",
     "output_type": "stream",
     "text": [
      "Directi Inc  -  ORG  -  Companies, agencies, institutions, etc.\n"
     ]
    }
   ],
   "source": [
    "doc = nlp(\"Mr.Tesla founded Tesla Inc which is now aquiring twitter for $44 Millions.\")\n",
    "doc = nlp(\"I work at Directi Inc as Senior data scientist and I earn in pennies \")\n",
    "\n",
    "for ent in doc.ents:\n",
    "    print(ent.text,' - ',ent.label_,' - ',spacy.explain(ent.label_))"
   ]
  },
  {
   "cell_type": "code",
   "execution_count": 71,
   "id": "d0b32f72-c6cb-4c58-9fa2-53384de97d22",
   "metadata": {},
   "outputs": [
    {
     "data": {
      "text/html": [
       "<span class=\"tex2jax_ignore\"><div class=\"entities\" style=\"line-height: 2.5; direction: ltr\">I work at \n",
       "<mark class=\"entity\" style=\"background: #7aecec; padding: 0.45em 0.6em; margin: 0 0.25em; line-height: 1; border-radius: 0.35em;\">\n",
       "    Directi Inc\n",
       "    <span style=\"font-size: 0.8em; font-weight: bold; line-height: 1; border-radius: 0.35em; vertical-align: middle; margin-left: 0.5rem\">ORG</span>\n",
       "</mark>\n",
       " as Senior data scientist and I earn in pennies </div></span>"
      ],
      "text/plain": [
       "<IPython.core.display.HTML object>"
      ]
     },
     "metadata": {},
     "output_type": "display_data"
    }
   ],
   "source": [
    "from spacy import displacy\n",
    "\n",
    "displacy.render(doc,style='ent')"
   ]
  },
  {
   "cell_type": "code",
   "execution_count": 73,
   "id": "384d9f89-0cdb-42ec-99c6-89c2794e41f6",
   "metadata": {},
   "outputs": [],
   "source": [
    "source_nlp = spacy.load('en_core_web_sm')\n",
    "\n",
    "nlp = spacy.blank('en')"
   ]
  },
  {
   "cell_type": "code",
   "execution_count": 75,
   "id": "a697cee6-8081-4278-9aca-9ee15792856d",
   "metadata": {},
   "outputs": [
    {
     "data": {
      "text/plain": [
       "<spacy.pipeline.ner.EntityRecognizer at 0x30faff0d0>"
      ]
     },
     "execution_count": 75,
     "metadata": {},
     "output_type": "execute_result"
    }
   ],
   "source": [
    "nlp.add_pipe('ner',source = source_nlp)"
   ]
  },
  {
   "cell_type": "code",
   "execution_count": 77,
   "id": "6715c6bf-c5d4-4d80-bfbb-291f47d28be8",
   "metadata": {},
   "outputs": [
    {
     "data": {
      "text/plain": [
       "['ner']"
      ]
     },
     "execution_count": 77,
     "metadata": {},
     "output_type": "execute_result"
    }
   ],
   "source": [
    "nlp.pipe_names"
   ]
  },
  {
   "cell_type": "code",
   "execution_count": 79,
   "id": "678adbf2-bff7-4485-87c2-3de7082e2a7c",
   "metadata": {},
   "outputs": [
    {
     "name": "stdout",
     "output_type": "stream",
     "text": [
      "Directi Inc  -  ORG  -  Companies, agencies, institutions, etc.\n"
     ]
    }
   ],
   "source": [
    "for ent in doc.ents:\n",
    "    print(ent.text,' - ',ent.label_,' - ',spacy.explain(ent.label_))"
   ]
  },
  {
   "cell_type": "code",
   "execution_count": null,
   "id": "7cfbc9ce-050d-4417-9719-3bc9a7790459",
   "metadata": {},
   "outputs": [],
   "source": []
  }
 ],
 "metadata": {
  "kernelspec": {
   "display_name": "Python 3 (ipykernel)",
   "language": "python",
   "name": "python3"
  },
  "language_info": {
   "codemirror_mode": {
    "name": "ipython",
    "version": 3
   },
   "file_extension": ".py",
   "mimetype": "text/x-python",
   "name": "python",
   "nbconvert_exporter": "python",
   "pygments_lexer": "ipython3",
   "version": "3.11.7"
  }
 },
 "nbformat": 4,
 "nbformat_minor": 5
}
