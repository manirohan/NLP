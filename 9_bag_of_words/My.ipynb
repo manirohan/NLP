{
 "cells": [
  {
   "cell_type": "code",
   "execution_count": 3,
   "id": "9b8f0d2b-7786-4f00-8c57-34fbf5764202",
   "metadata": {},
   "outputs": [],
   "source": [
    "import spacy\n",
    "import nltk\n",
    "import pandas as pd\n",
    "import numpy as np"
   ]
  },
  {
   "cell_type": "code",
   "execution_count": 5,
   "id": "9e941c42-3411-42aa-9285-3ba193f8d353",
   "metadata": {},
   "outputs": [],
   "source": [
    "df = pd.read_csv('spam.csv')"
   ]
  },
  {
   "cell_type": "code",
   "execution_count": 7,
   "id": "05553277-e537-4cd0-adc5-d99b26b068a0",
   "metadata": {},
   "outputs": [
    {
     "data": {
      "text/html": [
       "<div>\n",
       "<style scoped>\n",
       "    .dataframe tbody tr th:only-of-type {\n",
       "        vertical-align: middle;\n",
       "    }\n",
       "\n",
       "    .dataframe tbody tr th {\n",
       "        vertical-align: top;\n",
       "    }\n",
       "\n",
       "    .dataframe thead th {\n",
       "        text-align: right;\n",
       "    }\n",
       "</style>\n",
       "<table border=\"1\" class=\"dataframe\">\n",
       "  <thead>\n",
       "    <tr style=\"text-align: right;\">\n",
       "      <th></th>\n",
       "      <th>Category</th>\n",
       "      <th>Message</th>\n",
       "    </tr>\n",
       "  </thead>\n",
       "  <tbody>\n",
       "    <tr>\n",
       "      <th>0</th>\n",
       "      <td>ham</td>\n",
       "      <td>Go until jurong point, crazy.. Available only ...</td>\n",
       "    </tr>\n",
       "    <tr>\n",
       "      <th>1</th>\n",
       "      <td>ham</td>\n",
       "      <td>Ok lar... Joking wif u oni...</td>\n",
       "    </tr>\n",
       "    <tr>\n",
       "      <th>2</th>\n",
       "      <td>spam</td>\n",
       "      <td>Free entry in 2 a wkly comp to win FA Cup fina...</td>\n",
       "    </tr>\n",
       "    <tr>\n",
       "      <th>3</th>\n",
       "      <td>ham</td>\n",
       "      <td>U dun say so early hor... U c already then say...</td>\n",
       "    </tr>\n",
       "    <tr>\n",
       "      <th>4</th>\n",
       "      <td>ham</td>\n",
       "      <td>Nah I don't think he goes to usf, he lives aro...</td>\n",
       "    </tr>\n",
       "  </tbody>\n",
       "</table>\n",
       "</div>"
      ],
      "text/plain": [
       "  Category                                            Message\n",
       "0      ham  Go until jurong point, crazy.. Available only ...\n",
       "1      ham                      Ok lar... Joking wif u oni...\n",
       "2     spam  Free entry in 2 a wkly comp to win FA Cup fina...\n",
       "3      ham  U dun say so early hor... U c already then say...\n",
       "4      ham  Nah I don't think he goes to usf, he lives aro..."
      ]
     },
     "execution_count": 7,
     "metadata": {},
     "output_type": "execute_result"
    }
   ],
   "source": [
    "df.head()"
   ]
  },
  {
   "cell_type": "code",
   "execution_count": 9,
   "id": "070d255a-8e11-4e92-8d7c-6ecaa71706c0",
   "metadata": {},
   "outputs": [
    {
     "data": {
      "text/plain": [
       "ham     4825\n",
       "spam     747\n",
       "Name: Category, dtype: int64"
      ]
     },
     "execution_count": 9,
     "metadata": {},
     "output_type": "execute_result"
    }
   ],
   "source": [
    "df['Category'].value_counts()"
   ]
  },
  {
   "cell_type": "code",
   "execution_count": 19,
   "id": "a94311bc-7245-431f-8ae9-854643da46e2",
   "metadata": {},
   "outputs": [
    {
     "data": {
      "text/plain": [
       "\"FreeMsg Hey there darling it's been 3 week's now and no word back! I'd like some fun you up for it still? Tb ok! XxX std chgs to send, £1.50 to rcv\""
      ]
     },
     "execution_count": 19,
     "metadata": {},
     "output_type": "execute_result"
    }
   ],
   "source": [
    "df[df['Category']=='spam']['Message'].iloc[1]"
   ]
  },
  {
   "cell_type": "code",
   "execution_count": 21,
   "id": "4278e0c4-3ab9-44ce-858e-e0a953df230e",
   "metadata": {},
   "outputs": [
    {
     "data": {
      "text/plain": [
       "'WINNER!! As a valued network customer you have been selected to receivea £900 prize reward! To claim call 09061701461. Claim code KL341. Valid 12 hours only.'"
      ]
     },
     "execution_count": 21,
     "metadata": {},
     "output_type": "execute_result"
    }
   ],
   "source": [
    "df[df['Category']=='spam']['Message'].iloc[2]"
   ]
  },
  {
   "cell_type": "code",
   "execution_count": 25,
   "id": "2e024ae0-dbe0-48f8-a018-6af1e0982f24",
   "metadata": {},
   "outputs": [
    {
     "data": {
      "text/plain": [
       "'Go until jurong point, crazy.. Available only in bugis n great world la e buffet... Cine there got amore wat...'"
      ]
     },
     "execution_count": 25,
     "metadata": {},
     "output_type": "execute_result"
    }
   ],
   "source": [
    "df[df['Category']=='ham']['Message'].iloc[0]"
   ]
  },
  {
   "cell_type": "code",
   "execution_count": 27,
   "id": "07024b75-ecb0-4d07-a5b5-9d075be358c1",
   "metadata": {},
   "outputs": [
    {
     "data": {
      "text/plain": [
       "'Ok lar... Joking wif u oni...'"
      ]
     },
     "execution_count": 27,
     "metadata": {},
     "output_type": "execute_result"
    }
   ],
   "source": [
    "df[df['Category']=='ham']['Message'].iloc[1]"
   ]
  },
  {
   "cell_type": "code",
   "execution_count": 39,
   "id": "c8e0b3b6-44b4-486d-8ce5-e5d494b0dc48",
   "metadata": {},
   "outputs": [
    {
     "data": {
      "text/plain": [
       "'U dun say so early hor... U c already then say...'"
      ]
     },
     "execution_count": 39,
     "metadata": {},
     "output_type": "execute_result"
    }
   ],
   "source": [
    "df[df['Category']=='ham']['Message'].iloc[2]"
   ]
  },
  {
   "cell_type": "code",
   "execution_count": 41,
   "id": "48341dc8-0822-4564-80a1-3fe80d3cb30d",
   "metadata": {},
   "outputs": [],
   "source": [
    "df['spam'] = df['Category'].apply(lambda x:1 if x=='spam' else 0)"
   ]
  },
  {
   "cell_type": "code",
   "execution_count": 47,
   "id": "a807146b-7859-4b26-9296-0c5a0daa6c09",
   "metadata": {},
   "outputs": [
    {
     "data": {
      "text/plain": [
       "0    4825\n",
       "1     747\n",
       "Name: spam, dtype: int64"
      ]
     },
     "execution_count": 47,
     "metadata": {},
     "output_type": "execute_result"
    }
   ],
   "source": [
    "df['spam'].value_counts()"
   ]
  },
  {
   "cell_type": "code",
   "execution_count": 49,
   "id": "a72a869f-5b42-4ca3-a7ae-0f8927030de8",
   "metadata": {},
   "outputs": [],
   "source": [
    "from sklearn.model_selection import train_test_split"
   ]
  },
  {
   "cell_type": "code",
   "execution_count": 51,
   "id": "d581e99e-4432-4590-bb95-412df06983f1",
   "metadata": {},
   "outputs": [],
   "source": [
    "X_train, X_test, y_train, y_test = train_test_split(df['Message'],df['spam'],test_size=0.2)"
   ]
  },
  {
   "cell_type": "code",
   "execution_count": 53,
   "id": "dea7efa4-47c9-4842-b74a-cb8d53200665",
   "metadata": {},
   "outputs": [
    {
     "data": {
      "text/plain": [
       "((4457,), (1115,))"
      ]
     },
     "execution_count": 53,
     "metadata": {},
     "output_type": "execute_result"
    }
   ],
   "source": [
    "X_train.shape, X_test.shape"
   ]
  },
  {
   "cell_type": "code",
   "execution_count": 59,
   "id": "f29deaf4-2590-4af1-b2f5-f58b65bf08e5",
   "metadata": {},
   "outputs": [
    {
     "data": {
      "text/plain": [
       "(pandas.core.series.Series, pandas.core.series.Series)"
      ]
     },
     "execution_count": 59,
     "metadata": {},
     "output_type": "execute_result"
    }
   ],
   "source": [
    "type(X_train), type(X_test)"
   ]
  },
  {
   "cell_type": "code",
   "execution_count": 61,
   "id": "c1caa07f-e410-4771-bf8c-0f5d7daae6b9",
   "metadata": {},
   "outputs": [
    {
     "data": {
      "text/plain": [
       "1234                   Lol ok. I'll snatch her purse too.\n",
       "454     Ok i will tell her to stay out. Yeah its been ...\n",
       "465                         Ok i am on the way to railway\n",
       "1725              There bold 2  &lt;#&gt; . Is that yours\n",
       "Name: Message, dtype: object"
      ]
     },
     "execution_count": 61,
     "metadata": {},
     "output_type": "execute_result"
    }
   ],
   "source": [
    "X_train[:4]"
   ]
  },
  {
   "cell_type": "code",
   "execution_count": 63,
   "id": "82ea7cd3-bcf4-4c58-bde9-3ea168390eb6",
   "metadata": {},
   "outputs": [],
   "source": [
    "from sklearn.feature_extraction.text import CountVectorizer"
   ]
  },
  {
   "cell_type": "code",
   "execution_count": 65,
   "id": "0c135a0a-7f70-4a42-b654-f21ca86f803f",
   "metadata": {},
   "outputs": [],
   "source": [
    "v = CountVectorizer()"
   ]
  },
  {
   "cell_type": "code",
   "execution_count": 73,
   "id": "6e1d91e1-d365-4507-b741-a535787977b1",
   "metadata": {},
   "outputs": [
    {
     "data": {
      "text/plain": [
       "<4457x7760 sparse matrix of type '<class 'numpy.int64'>'\n",
       "\twith 59519 stored elements in Compressed Sparse Row format>"
      ]
     },
     "execution_count": 73,
     "metadata": {},
     "output_type": "execute_result"
    }
   ],
   "source": [
    "X_train_cv = v.fit_transform(X_train.values)\n",
    "X_train_cv"
   ]
  },
  {
   "cell_type": "code",
   "execution_count": 75,
   "id": "895179ee-cd8f-4b38-aee8-95ff72c257a2",
   "metadata": {},
   "outputs": [
    {
     "data": {
      "text/plain": [
       "array([[0, 0, 0, ..., 0, 0, 0],\n",
       "       [0, 0, 0, ..., 0, 0, 0],\n",
       "       [0, 0, 0, ..., 0, 0, 0],\n",
       "       ...,\n",
       "       [0, 0, 0, ..., 0, 0, 0],\n",
       "       [0, 0, 0, ..., 0, 0, 0],\n",
       "       [0, 0, 0, ..., 0, 0, 0]])"
      ]
     },
     "execution_count": 75,
     "metadata": {},
     "output_type": "execute_result"
    }
   ],
   "source": [
    "X_train_cv.toarray()"
   ]
  },
  {
   "cell_type": "code",
   "execution_count": 77,
   "id": "fe9bafd9-8b15-47c8-80ab-35324e6b91c2",
   "metadata": {},
   "outputs": [
    {
     "data": {
      "text/plain": [
       "(4457, 7760)"
      ]
     },
     "execution_count": 77,
     "metadata": {},
     "output_type": "execute_result"
    }
   ],
   "source": [
    "X_train_cv.shape"
   ]
  },
  {
   "cell_type": "code",
   "execution_count": 85,
   "id": "557eb5a6-5451-466a-b919-729a985cd500",
   "metadata": {},
   "outputs": [
    {
     "data": {
      "text/plain": [
       "array(['anywhere', 'aom', 'apart', 'apartment', 'apes', 'apeshit',\n",
       "       'aphex', 'apnt', 'apo', 'apologetic', 'apologise', 'apologize',\n",
       "       'app', 'apparently', 'appeal', 'appear', 'apples', 'application',\n",
       "       'apply', 'applyed', 'applying', 'appointment', 'appointments',\n",
       "       'appreciate', 'appreciated', 'approaches', 'approaching',\n",
       "       'appropriate', 'approve', 'approved', 'approx', 'apps', 'appt',\n",
       "       'appy', 'april', 'aproach', 'apt', 'aptitude', 'aquarius', 'ar',\n",
       "       'arabian', 'arcade', 'archive', 'ard', 'are', 'area', 'aren',\n",
       "       'arent', 'arestaurant', 'aretaking'], dtype=object)"
      ]
     },
     "execution_count": 85,
     "metadata": {},
     "output_type": "execute_result"
    }
   ],
   "source": [
    "v.get_feature_names_out()[1000:1050]"
   ]
  },
  {
   "cell_type": "code",
   "execution_count": 87,
   "id": "1efdd11c-10cd-4ed8-b926-6f1787166417",
   "metadata": {},
   "outputs": [
    {
     "data": {
      "text/plain": [
       "{'lol': 4174,\n",
       " 'ok': 4898,\n",
       " 'll': 4147,\n",
       " 'snatch': 6261,\n",
       " 'her': 3398,\n",
       " 'purse': 5495,\n",
       " 'too': 6969,\n",
       " 'will': 7528,\n",
       " 'tell': 6742,\n",
       " 'to': 6928,\n",
       " 'stay': 6449,\n",
       " 'out': 4992,\n",
       " 'yeah': 7692,\n",
       " 'its': 3746,\n",
       " 'been': 1289,\n",
       " 'tough': 6995,\n",
       " 'but': 1571,\n",
       " 'we': 7424,\n",
       " 'are': 1044,\n",
       " 'optimistic': 4954,\n",
       " 'things': 6835,\n",
       " 'improve': 3622,\n",
       " 'this': 6844,\n",
       " 'month': 4566,\n",
       " 'am': 930,\n",
       " 'on': 4917,\n",
       " 'the': 6805,\n",
       " 'way': 7420,\n",
       " 'railway': 5543,\n",
       " 'there': 6824,\n",
       " 'bold': 1410,\n",
       " 'lt': 4240,\n",
       " 'gt': 3242,\n",
       " 'is': 3728,\n",
       " 'that': 6801,\n",
       " 'yours': 7728,\n",
       " 'waiting': 7365,\n",
       " 'for': 2926,\n",
       " 'your': 7725,\n",
       " 'call': 1600,\n",
       " 'sir': 6169,\n",
       " 'where': 7492,\n",
       " 'at': 1110,\n",
       " 'were': 7468,\n",
       " 'hungry': 3535,\n",
       " 'sun': 6595,\n",
       " 'ah': 865,\n",
       " 'thk': 6845,\n",
       " 'mayb': 4390,\n",
       " 'can': 1623,\n",
       " 'if': 3586,\n",
       " 'dun': 2482,\n",
       " 'have': 3342,\n",
       " 'anythin': 994,\n",
       " 'book': 1419,\n",
       " 'lesson': 4070,\n",
       " 'pilates': 5202,\n",
       " 'orchard': 4964,\n",
       " 'mrt': 4602,\n",
       " 'noe': 4783,\n",
       " 'hor': 3483,\n",
       " 'oh': 4893,\n",
       " 'come': 1901,\n",
       " 'tomorrow': 6956,\n",
       " 'haha': 3280,\n",
       " 'my': 4652,\n",
       " 'friend': 2990,\n",
       " 'tyler': 7105,\n",
       " 'literally': 4136,\n",
       " 'just': 3859,\n",
       " 'asked': 1090,\n",
       " 'you': 7720,\n",
       " 'could': 2026,\n",
       " 'get': 3106,\n",
       " 'him': 3420,\n",
       " 'dubsack': 2471,\n",
       " 'sad': 5859,\n",
       " 'story': 6499,\n",
       " 'of': 4874,\n",
       " 'man': 4326,\n",
       " 'last': 4006,\n",
       " 'week': 7445,\n",
       " 'was': 7400,\n",
       " 'day': 2182,\n",
       " 'wife': 7519,\n",
       " 'did': 2297,\n",
       " 'nt': 4832,\n",
       " 'wish': 7550,\n",
       " 'me': 4397,\n",
       " 'parents': 5065,\n",
       " 'forgot': 2937,\n",
       " 'so': 6272,\n",
       " 'kids': 3917,\n",
       " 'went': 7465,\n",
       " 'work': 7602,\n",
       " 'even': 2654,\n",
       " 'colleagues': 1885,\n",
       " 'not': 4812,\n",
       " 'how': 3505,\n",
       " 'love': 4217,\n",
       " 'with': 7557,\n",
       " 'brother': 1518,\n",
       " 'time': 6894,\n",
       " 'talk': 6688,\n",
       " 'english': 2592,\n",
       " 'grins': 3228,\n",
       " 'say': 5917,\n",
       " 'hey': 3407,\n",
       " 'muhommad': 4627,\n",
       " 'penny': 5131,\n",
       " 'says': 5920,\n",
       " 'hello': 3385,\n",
       " 'from': 3007,\n",
       " 'across': 792,\n",
       " 'sea': 5953,\n",
       " 'should': 6106,\n",
       " 'more': 4572,\n",
       " 'chicken': 1772,\n",
       " 'broth': 1516,\n",
       " 'want': 7386,\n",
       " 'ramen': 5558,\n",
       " 'unless': 7165,\n",
       " 'some': 6286,\n",
       " 'don': 2402,\n",
       " 'know': 3945,\n",
       " 'about': 758,\n",
       " 'ur': 7198,\n",
       " 'paper': 5056,\n",
       " 'in': 3625,\n",
       " 'morn': 4574,\n",
       " 'or': 4957,\n",
       " 'aft': 846,\n",
       " 'tmr': 6922,\n",
       " 'nice': 4756,\n",
       " 'talking': 6691,\n",
       " 'please': 5237,\n",
       " 'dont': 2406,\n",
       " 'forget': 2934,\n",
       " 'pix': 5212,\n",
       " 'see': 5970,\n",
       " 'all': 907,\n",
       " 'guys': 3266,\n",
       " 'sooner': 6312,\n",
       " 'surfing': 6622,\n",
       " 'online': 4927,\n",
       " 'store': 6495,\n",
       " 'offers': 4882,\n",
       " 'do': 2369,\n",
       " 'buy': 1575,\n",
       " 'any': 987,\n",
       " 'thing': 6834,\n",
       " 'urgent': 7202,\n",
       " 'mobile': 4531,\n",
       " 'no': 4780,\n",
       " 'awarded': 1165,\n",
       " '000': 1,\n",
       " 'bonus': 1416,\n",
       " 'caller': 1606,\n",
       " 'prize': 5410,\n",
       " '02': 5,\n",
       " '09': 154,\n",
       " '03': 11,\n",
       " 'our': 4990,\n",
       " '2nd': 407,\n",
       " 'attempt': 1122,\n",
       " 'contact': 1973,\n",
       " '0871': 91,\n",
       " '872': 693,\n",
       " '9755': 729,\n",
       " 'box95qu': 1461,\n",
       " 'course': 2038,\n",
       " 'tease': 6731,\n",
       " 'simply': 6155,\n",
       " 'must': 4646,\n",
       " 'keep': 3894,\n",
       " 'posted': 5322,\n",
       " 'prey': 5393,\n",
       " 'loving': 4227,\n",
       " 'smile': 6240,\n",
       " 'devouring': 2279,\n",
       " 'kiss': 3933,\n",
       " 'take': 6681,\n",
       " 'care': 1649,\n",
       " 'umma': 7127,\n",
       " 'ill': 3597,\n",
       " 'be': 1267,\n",
       " 'mins': 4488,\n",
       " 'look': 4185,\n",
       " 'she': 6061,\n",
       " 'replying': 5710,\n",
       " 'has': 3328,\n",
       " 'boye': 1464,\n",
       " 'changed': 1718,\n",
       " 'his': 3426,\n",
       " 'phone': 5176,\n",
       " 'number': 4840,\n",
       " 'ya': 7679,\n",
       " 'had': 3277,\n",
       " 'now': 4826,\n",
       " 'onion': 4926,\n",
       " 'roast': 5792,\n",
       " 'hi': 3411,\n",
       " 'petey': 5161,\n",
       " 'noi': 4784,\n",
       " 'wanted': 7388,\n",
       " 'chat': 1737,\n",
       " 'coz': 2045,\n",
       " 'avent': 1154,\n",
       " 'spoken': 6388,\n",
       " 'long': 4181,\n",
       " 'hope': 3475,\n",
       " 'doin': 2391,\n",
       " 'alrite': 922,\n",
       " 'good': 3172,\n",
       " 'nit': 4774,\n",
       " 'js': 3840,\n",
       " 'might': 4464,\n",
       " 'ax': 1169,\n",
       " 'well': 7460,\n",
       " 'im': 3600,\n",
       " 'nothing': 4816,\n",
       " 'really': 5603,\n",
       " 'making': 4321,\n",
       " 'sure': 6619,\n",
       " 'everybody': 2663,\n",
       " 'up': 7179,\n",
       " 'speed': 6359,\n",
       " 'free': 2969,\n",
       " 'ringtone': 5779,\n",
       " 'text': 6776,\n",
       " 'first': 2857,\n",
       " '87131': 691,\n",
       " 'poly': 5281,\n",
       " 'true': 7048,\n",
       " 'tone': 6958,\n",
       " 'help': 3388,\n",
       " '0845': 61,\n",
       " '2814032': 376,\n",
       " '16': 311,\n",
       " 'after': 847,\n",
       " '1st': 333,\n",
       " 'tones': 6959,\n",
       " '3x': 477,\n",
       " '150pw': 308,\n",
       " 'nd': 4702,\n",
       " 'txt': 7093,\n",
       " 'stop': 6486,\n",
       " 'afternoon': 849,\n",
       " 'job': 3814,\n",
       " 'prospects': 5457,\n",
       " 'missing': 4500,\n",
       " 'what': 7482,\n",
       " 'being': 1305,\n",
       " 'lazy': 4029,\n",
       " 'and': 957,\n",
       " 'bleak': 1378,\n",
       " 'hmmm': 3441,\n",
       " 'happy': 3320,\n",
       " 'filled': 2827,\n",
       " 'registered': 5659,\n",
       " 'sinco': 6159,\n",
       " 'as': 1079,\n",
       " 'payee': 5110,\n",
       " 'log': 4165,\n",
       " 'icicibank': 3570,\n",
       " 'com': 1896,\n",
       " 'enter': 2601,\n",
       " 'urn': 7211,\n",
       " 'confirm': 1952,\n",
       " 'beware': 1331,\n",
       " 'frauds': 2964,\n",
       " 'share': 6055,\n",
       " 'disclose': 2343,\n",
       " 'anyone': 990,\n",
       " 'think': 6836,\n",
       " 'usual': 7228,\n",
       " 'guy': 3265,\n",
       " 'still': 6473,\n",
       " 'passed': 5085,\n",
       " 'night': 4763,\n",
       " 'ahold': 871,\n",
       " 'anybody': 988,\n",
       " 'let': 4072,\n",
       " 'throw': 6866,\n",
       " 'down': 2425,\n",
       " 'only': 4928,\n",
       " 'shopping': 6096,\n",
       " 'once': 4921,\n",
       " 'who': 7504,\n",
       " 'owns': 5024,\n",
       " 'private': 5407,\n",
       " 'property': 5452,\n",
       " 'boy': 1463,\n",
       " 'always': 928,\n",
       " 'passionate': 5088,\n",
       " 'gas': 3067,\n",
       " 'station': 6447,\n",
       " 'go': 3150,\n",
       " 'found': 2950,\n",
       " 'dis': 2335,\n",
       " 'pierre': 5199,\n",
       " 'cardin': 1647,\n",
       " 'one': 4923,\n",
       " 'which': 7498,\n",
       " 'looks': 4190,\n",
       " 'normal': 4804,\n",
       " 'costs': 2019,\n",
       " '20': 343,\n",
       " 'sale': 5872,\n",
       " 'workin': 7605,\n",
       " 'miss': 4496,\n",
       " 'thanx': 6798,\n",
       " 'okie': 4903,\n",
       " 'scared': 5923,\n",
       " 'fat': 2773,\n",
       " 'then': 6818,\n",
       " 'wan': 7381,\n",
       " 'already': 920,\n",
       " 'yo': 7715,\n",
       " 'theres': 6825,\n",
       " 'class': 1826,\n",
       " 'tmrw': 6923,\n",
       " 'right': 5772,\n",
       " 'dear': 2193,\n",
       " 'voucher': 7334,\n",
       " 'holder': 3453,\n",
       " 'claim': 1817,\n",
       " 'weeks': 7449,\n",
       " 'offer': 4880,\n",
       " 'pc': 5115,\n",
       " 'http': 3521,\n",
       " 'www': 7654,\n",
       " 'wtlp': 7650,\n",
       " 'co': 1866,\n",
       " 'uk': 7121,\n",
       " 'ts': 7058,\n",
       " 'cs': 2091,\n",
       " 'apply': 1018,\n",
       " 'prob': 5414,\n",
       " 'hiya': 3434,\n",
       " 'stu': 6526,\n",
       " 'wot': 7620,\n",
       " 'much': 4622,\n",
       " 'truble': 7046,\n",
       " 'home': 3461,\n",
       " 'moment': 4551,\n",
       " 'evone': 2676,\n",
       " 'hates': 3335,\n",
       " 'hell': 3383,\n",
       " 'av': 1145,\n",
       " 'done': 2404,\n",
       " 'wont': 7593,\n",
       " 'bck': 1258,\n",
       " 'luv': 4255,\n",
       " 'dan': 2151,\n",
       " 'great': 3219,\n",
       " 'never': 4741,\n",
       " 'better': 1327,\n",
       " 'each': 2498,\n",
       " 'gives': 3135,\n",
       " 'reasons': 5609,\n",
       " 'thank': 6792,\n",
       " 'god': 3156,\n",
       " 'hurry': 3542,\n",
       " 'big': 1343,\n",
       " 'butt': 1572,\n",
       " 'hang': 3303,\n",
       " 'food': 2916,\n",
       " 'starving': 6441,\n",
       " 'ask': 1088,\n",
       " 'cooked': 1996,\n",
       " 'thinking': 6839,\n",
       " 'going': 3162,\n",
       " 'reg': 5654,\n",
       " 'pract': 5345,\n",
       " 'lessons': 4071,\n",
       " 'flung': 2897,\n",
       " 'advance': 830,\n",
       " 'wat': 7405,\n",
       " 'sleeping': 6205,\n",
       " 'got': 3189,\n",
       " 'spys': 6404,\n",
       " 'checking': 1748,\n",
       " 'mails': 4312,\n",
       " 'lor': 4197,\n",
       " 'romantic': 5804,\n",
       " 'paris': 5066,\n",
       " 'nights': 4766,\n",
       " 'flights': 2881,\n",
       " '79': 626,\n",
       " 'next': 4752,\n",
       " 'year': 7693,\n",
       " '08704439680ts': 82,\n",
       " 'yes': 7703,\n",
       " 'princess': 5399,\n",
       " 'make': 4317,\n",
       " 'moan': 4528,\n",
       " 'howz': 3512,\n",
       " 'pain': 5039,\n",
       " 'fine': 2842,\n",
       " 'olol': 4912,\n",
       " 'printed': 5401,\n",
       " 'forum': 2947,\n",
       " 'post': 5318,\n",
       " 'by': 1585,\n",
       " 'exact': 2683,\n",
       " 'same': 5883,\n",
       " 'fixed': 2866,\n",
       " 'gpu': 3200,\n",
       " 'replacement': 5705,\n",
       " 'hopefully': 3477,\n",
       " 'they': 6831,\n",
       " 'ignore': 3590,\n",
       " 'sorry': 6320,\n",
       " 'roommates': 5809,\n",
       " 'took': 6970,\n",
       " 'forever': 2931,\n",
       " 'it': 3739,\n",
       " '645': 584,\n",
       " 'meeting': 4415,\n",
       " 'da': 2142,\n",
       " 'ge': 3084,\n",
       " 'nite': 4775,\n",
       " 'jus': 3858,\n",
       " 'tot': 6989,\n",
       " 'would': 7624,\n",
       " 'cos': 2014,\n",
       " 'ba': 1177,\n",
       " 'gua': 3243,\n",
       " 'mt': 4612,\n",
       " 'faber': 2734,\n",
       " 'yest': 7704,\n",
       " 'mah': 4304,\n",
       " 'today': 6935,\n",
       " 'prasanth': 5354,\n",
       " 'ettans': 2645,\n",
       " 'mother': 4582,\n",
       " 'away': 1166,\n",
       " 'pray': 5357,\n",
       " 'family': 2758,\n",
       " 'sry': 6414,\n",
       " 'jst': 3842,\n",
       " 'nw': 4850,\n",
       " 'came': 1618,\n",
       " 'running': 5843,\n",
       " 'managed': 4329,\n",
       " 'minutes': 4490,\n",
       " 'needed': 4716,\n",
       " 'oxygen': 5026,\n",
       " 'resort': 5732,\n",
       " 'roller': 5803,\n",
       " 'option': 4955,\n",
       " 'ha': 3273,\n",
       " 'walk': 7369,\n",
       " 'everywhere': 2672,\n",
       " 'cannot': 1634,\n",
       " 'tram': 7010,\n",
       " 'cousin': 2041,\n",
       " 'said': 5867,\n",
       " 'vic': 7284,\n",
       " 'market': 4351,\n",
       " 'hotel': 3494,\n",
       " 'cab': 1589,\n",
       " 'available': 1148,\n",
       " 'pick': 5188,\n",
       " 'drop': 2456,\n",
       " 'door': 2413,\n",
       " 'steps': 6463,\n",
       " 'cool': 1999,\n",
       " 'he': 3352,\n",
       " 'here': 3399,\n",
       " 'lemme': 4060,\n",
       " 'when': 7488,\n",
       " 're': 5583,\n",
       " 'around': 1066,\n",
       " 'elaine': 2552,\n",
       " 'confirmed': 1954,\n",
       " 'back': 1189,\n",
       " 'tampa': 6697,\n",
       " 'ffffuuuuuuu': 2810,\n",
       " 'battery': 1248,\n",
       " 'mr': 4600,\n",
       " 'adewale': 814,\n",
       " 'uncle': 7136,\n",
       " 'aka': 887,\n",
       " 'egbon': 2541,\n",
       " 'raji': 5550,\n",
       " 'pls': 5243,\n",
       " 'favour': 2784,\n",
       " 'convey': 1990,\n",
       " 'birthday': 1360,\n",
       " 'wishes': 7552,\n",
       " 'nimya': 4771,\n",
       " 'space': 6340,\n",
       " 'invaders': 3703,\n",
       " 'chance': 1715,\n",
       " 'win': 7530,\n",
       " 'orig': 4974,\n",
       " 'arcade': 1041,\n",
       " 'game': 3053,\n",
       " 'console': 1970,\n",
       " 'press': 5385,\n",
       " 'games': 3054,\n",
       " 'std': 6454,\n",
       " 'wap': 7391,\n",
       " 'charge': 1727,\n",
       " 'o2': 4858,\n",
       " 'terms': 6761,\n",
       " 'settings': 6024,\n",
       " 'purchase': 5490,\n",
       " 'imagine': 3603,\n",
       " 'gentle': 3096,\n",
       " 'unlike': 7166,\n",
       " 'other': 4983,\n",
       " 'docs': 2373,\n",
       " 'treat': 7028,\n",
       " 'their': 6811,\n",
       " 'patients': 5098,\n",
       " 'like': 4098,\n",
       " 'turkeys': 7076,\n",
       " 'life': 4088,\n",
       " 'face': 2735,\n",
       " 'choices': 1798,\n",
       " 'toss': 6988,\n",
       " 'coin': 1878,\n",
       " 'becoz': 1280,\n",
       " 'settle': 6025,\n",
       " 'question': 5519,\n",
       " 'while': 7499,\n",
       " 'air': 878,\n",
       " 'heart': 3368,\n",
       " 'hoping': 3482,\n",
       " 'gudni8': 3248,\n",
       " 'two': 7091,\n",
       " 'cartons': 1668,\n",
       " 'off': 4876,\n",
       " 'very': 7277,\n",
       " 'pleased': 5238,\n",
       " 'shelves': 6065,\n",
       " 'nope': 4798,\n",
       " 'meanwhile': 4404,\n",
       " 'greet': 3225,\n",
       " 'babe': 1180,\n",
       " 'feel': 2792,\n",
       " 'lets': 4073,\n",
       " '4get': 518,\n",
       " 'both': 1438,\n",
       " 'try': 7055,\n",
       " 'cheer': 1752,\n",
       " 'fit': 2861,\n",
       " 'soo': 6310,\n",
       " 'muchxxlove': 4624,\n",
       " 'locaxx': 4160,\n",
       " 'taking': 6686,\n",
       " 'italian': 3740,\n",
       " 'pretty': 5388,\n",
       " 'dress': 2444,\n",
       " 'panties': 5053,\n",
       " 'need': 4714,\n",
       " 'anything': 995,\n",
       " 'sleep': 6203,\n",
       " 'tried': 7037,\n",
       " 'reply': 5709,\n",
       " 'sms': 6252,\n",
       " 'video': 7287,\n",
       " '750': 620,\n",
       " 'unlimited': 7167,\n",
       " 'camcorder': 1617,\n",
       " '08000930705': 46,\n",
       " 'del': 2227,\n",
       " 'thurs': 6876,\n",
       " 'hear': 3364,\n",
       " 'receipt': 5616,\n",
       " 'sound': 6329,\n",
       " 'gd': 3083,\n",
       " 'luck': 4245,\n",
       " 'rather': 5571,\n",
       " 'prominent': 5438,\n",
       " 'bite': 1364,\n",
       " 'mark': 4350,\n",
       " 'cheek': 1751,\n",
       " 'sexy': 6035,\n",
       " 'singles': 6164,\n",
       " 'age': 856,\n",
       " 'followed': 2908,\n",
       " 'gender': 3090,\n",
       " 'wither': 7558,\n",
       " '23f': 360,\n",
       " 'gay': 3074,\n",
       " 'men': 4433,\n",
       " '23g': 361,\n",
       " 'turns': 7080,\n",
       " 'randomlly': 5561,\n",
       " 'within': 7559,\n",
       " '5min': 562,\n",
       " 'opening': 4941,\n",
       " '1000': 253,\n",
       " 'winner': 7540,\n",
       " 'guaranteed': 3245,\n",
       " 'final': 2835,\n",
       " '09071517866': 234,\n",
       " '150ppmpobox10183bhamb64xe': 306,\n",
       " 'rats': 5573,\n",
       " 'ever': 2660,\n",
       " 'vote': 7332,\n",
       " 'themes': 6816,\n",
       " 'also': 923,\n",
       " 'remember': 5679,\n",
       " 'beads': 1269,\n",
       " 'use': 7217,\n",
       " 'atm': 1117,\n",
       " 'register': 5658,\n",
       " 'anyway': 998,\n",
       " 'ready': 5593,\n",
       " 'trouble': 7044,\n",
       " 'classes': 1827,\n",
       " 'due': 2477,\n",
       " 'dodgey': 2378,\n",
       " 'expecting': 2708,\n",
       " 'mine': 4479,\n",
       " 'tomo': 6954,\n",
       " 'recovery': 5635,\n",
       " 'place': 5216,\n",
       " 'send': 5996,\n",
       " 'address': 813,\n",
       " 'angry': 963,\n",
       " 'misbehaved': 4493,\n",
       " 'hurt': 3543,\n",
       " 'plz': 5250,\n",
       " 'slap': 6201,\n",
       " 'urself': 7212,\n",
       " 'bcoz': 1262,\n",
       " 'fault': 2779,\n",
       " 'basically': 1236,\n",
       " 'urgh': 7204,\n",
       " 'coach': 1867,\n",
       " 'hot': 3493,\n",
       " 'smells': 6237,\n",
       " 'chip': 1792,\n",
       " 'thanks': 6793,\n",
       " 'again': 854,\n",
       " 'especially': 2637,\n",
       " 'duvet': 2491,\n",
       " 'predictive': 5366,\n",
       " 'word': 7600,\n",
       " 'late': 4009,\n",
       " 'mum': 4629,\n",
       " 'yep': 7701,\n",
       " 'loxahatchee': 4232,\n",
       " 'xmas': 7663,\n",
       " 'tree': 7033,\n",
       " 'burning': 1560,\n",
       " 'starts': 6439,\n",
       " 'an': 953,\n",
       " 'hour': 3499,\n",
       " 'player': 5230,\n",
       " 'why': 7512,\n",
       " 'unsold': 7172,\n",
       " 'outside': 5003,\n",
       " 'office': 4883,\n",
       " 'starshine': 6435,\n",
       " 'boytoy': 1468,\n",
       " 'does': 2379,\n",
       " 'crave': 2059,\n",
       " 'yet': 7706,\n",
       " 'ache': 787,\n",
       " 'fuck': 3015,\n",
       " 'sips': 6168,\n",
       " 'cappuccino': 1640,\n",
       " 'teasing': 6732,\n",
       " 'decimal': 2206,\n",
       " 'pm': 5251,\n",
       " 'vikky': 7296,\n",
       " 'otside': 4987,\n",
       " 'il': 3595,\n",
       " 'tht': 6873,\n",
       " 'friends': 2991,\n",
       " 'staying': 6452,\n",
       " 'whole': 7506,\n",
       " 'show': 6112,\n",
       " 'won': 7586,\n",
       " 'til': 6891,\n",
       " 'ahead': 867,\n",
       " 'smoke': 6246,\n",
       " 'worth': 7618,\n",
       " 'leave': 4046,\n",
       " 'islands': 3733,\n",
       " 'head': 3353,\n",
       " 'towards': 6997,\n",
       " 'hard': 3321,\n",
       " 'rock': 5795,\n",
       " 'run': 5842,\n",
       " 'into': 3699,\n",
       " 'unique': 7158,\n",
       " 'enough': 2599,\n",
       " 'find': 2839,\n",
       " '30th': 436,\n",
       " 'august': 1136,\n",
       " 'areyouunique': 1050,\n",
       " 'dorothy': 2417,\n",
       " 'kiefer': 3919,\n",
       " 'bank': 1214,\n",
       " 'granite': 3210,\n",
       " 'issues': 3737,\n",
       " 'strong': 6520,\n",
       " 'explosive': 2719,\n",
       " 'members': 4428,\n",
       " 'over': 5009,\n",
       " '300': 427,\n",
       " 'nasdaq': 4683,\n",
       " 'symbol': 6662,\n",
       " 'cdgt': 1691,\n",
       " '00': 0,\n",
       " 'per': 5134,\n",
       " 'knew': 3943,\n",
       " 'murder': 4638,\n",
       " 'exactly': 2684,\n",
       " 'yup': 7744,\n",
       " 'giving': 3136,\n",
       " 'problems': 5418,\n",
       " 'sam': 5879,\n",
       " 'eachother': 2499,\n",
       " 'meet': 4413,\n",
       " 'house': 3501,\n",
       " 'rooms': 5810,\n",
       " 'cheap': 1740,\n",
       " 'girls': 3130,\n",
       " 'rang': 5564,\n",
       " 'india': 3646,\n",
       " 'probably': 5415,\n",
       " 'swing': 6654,\n",
       " 'roommate': 5808,\n",
       " 'finishes': 2848,\n",
       " 'girl': 3127,\n",
       " 'reached': 5585,\n",
       " 'happen': 3310,\n",
       " 'mca': 4394,\n",
       " 'complimentary': 1930,\n",
       " 'trip': 7038,\n",
       " 'eurodisinc': 2648,\n",
       " 'trav': 7021,\n",
       " 'aco': 791,\n",
       " 'entry41': 2613,\n",
       " '87121': 690,\n",
       " '18': 316,\n",
       " '50': 535,\n",
       " 'morefrmmob': 4573,\n",
       " 'shracomorsglsuplt': 6117,\n",
       " '10': 251,\n",
       " 'ls1': 4236,\n",
       " '3aj': 459,\n",
       " 'wanna': 7384,\n",
       " 'set': 6022,\n",
       " '09096102316': 242,\n",
       " 'cum': 2113,\n",
       " '2moro': 399,\n",
       " 'jane': 3772,\n",
       " 'xx': 7667,\n",
       " 'calls': 1613,\n",
       " 'minmoremobsemspobox45po139wa': 4485,\n",
       " 'lots': 4206,\n",
       " 'rakhesh': 5554,\n",
       " 'nri': 4831,\n",
       " 'promises': 5441,\n",
       " 'though': 6854,\n",
       " 'haven': 3344,\n",
       " 'gotten': 3196,\n",
       " 'dinner': 2324,\n",
       " 'hanks': 3306,\n",
       " 'lotsly': 4207,\n",
       " 'loved': 4218,\n",
       " 'gal': 3048,\n",
       " 'propsd': 5455,\n",
       " 'bt': 1533,\n",
       " 'didnt': 2299,\n",
       " 'mind': 4477,\n",
       " 'gv': 3267,\n",
       " 'lv': 4260,\n",
       " 'lttrs': 4243,\n",
       " 'frnds': 3000,\n",
       " 'threw': 6862,\n",
       " 'thm': 6846,\n",
       " 'decided': 2204,\n",
       " 'aproach': 1035,\n",
       " 'dt': 2469,\n",
       " 'truck': 7047,\n",
       " 'speeding': 6360,\n",
       " 'wn': 7576,\n",
       " 'hit': 3428,\n",
       " 'ran': 5559,\n",
       " 'saved': 5913,\n",
       " 'hw': 3553,\n",
       " 'cn': 1862,\n",
       " 'fast': 2770,\n",
       " 'replied': 5707,\n",
       " 'boost': 1427,\n",
       " 'secret': 5962,\n",
       " 'energy': 2585,\n",
       " 'instantly': 3682,\n",
       " 'shouted': 6109,\n",
       " 'thy': 6880,\n",
       " 'lived': 4140,\n",
       " 'happily': 3318,\n",
       " '2gthr': 393,\n",
       " 'drinking': 2449,\n",
       " 'evrydy': 2680,\n",
       " 'moral': 4571,\n",
       " 'hv': 3550,\n",
       " 'msgs': 4610,\n",
       " 'gud': 3247,\n",
       " 'ni8': 4754,\n",
       " 'bruv': 1528,\n",
       " 'break': 1486,\n",
       " 'rewarding': 5764,\n",
       " 'semester': 5992,\n",
       " 'maybe': 4391,\n",
       " 'woke': 7581,\n",
       " 'before': 1294,\n",
       " 'fucking': 3018,\n",
       " 'wouldn': 7626,\n",
       " 'problem': 5416,\n",
       " 'lookin': 4188,\n",
       " 'later': 4012,\n",
       " 'tonight': 6964,\n",
       " 'needs': 4718,\n",
       " 'bed': 1282,\n",
       " 'dealing': 2191,\n",
       " 'understanding': 7145,\n",
       " 've': 7262,\n",
       " 'trying': 7057,\n",
       " 'sura': 6618,\n",
       " 'kinda': 3926,\n",
       " 'gets': 3108,\n",
       " 'twelve': 7083,\n",
       " 'aah': 745,\n",
       " 'speak': 6349,\n",
       " 'anytime': 997,\n",
       " 'best': 1322,\n",
       " 'play': 5228,\n",
       " 'others': 4984,\n",
       " 'half': 3288,\n",
       " 'special': 6351,\n",
       " 'tv': 7081,\n",
       " 'watch': 7406,\n",
       " 'meh': 4419,\n",
       " 'stupid': 6541,\n",
       " 'possible': 5316,\n",
       " 'mostly': 4581,\n",
       " 'hmm': 3440,\n",
       " 'forgiven': 2936,\n",
       " 'tunde': 7073,\n",
       " 'doing': 2393,\n",
       " 'wishing': 7554,\n",
       " 'abiola': 755,\n",
       " 'foreign': 2930,\n",
       " 'stamps': 6425,\n",
       " 'whatever': 7483,\n",
       " 'them': 6814,\n",
       " 'order': 4965,\n",
       " 'reference': 5644,\n",
       " 'x49': 7657,\n",
       " 'charged': 1728,\n",
       " 'arrive': 1071,\n",
       " 'customer': 2127,\n",
       " 'services': 6019,\n",
       " '09065989182': 217,\n",
       " 'colour': 1893,\n",
       " 'red': 5638,\n",
       " 'txtstar': 7101,\n",
       " 'de': 2187,\n",
       " 'looking': 4189,\n",
       " 'booked': 1420,\n",
       " 'yoga': 7716,\n",
       " 'evening': 2655,\n",
       " 'roger': 5800,\n",
       " 'dogbreath': 2384,\n",
       " 'sounding': 6330,\n",
       " 'jan': 3770,\n",
       " 'al': 889,\n",
       " 'watching': 7410,\n",
       " 'film': 2830,\n",
       " 'computer': 1935,\n",
       " 'gonna': 3170,\n",
       " 'death': 2197,\n",
       " 'note': 4813,\n",
       " 'robs': 5794,\n",
       " 'avenge': 1153,\n",
       " 'taj': 6679,\n",
       " 'mahal': 4305,\n",
       " 'lesser': 4069,\n",
       " 'known': 3947,\n",
       " 'facts': 2739,\n",
       " 'mumtaz': 4634,\n",
       " 'shahjahan': 6045,\n",
       " '4th': 527,\n",
       " 'wifes': 7520,\n",
       " 'killed': 3921,\n",
       " 'husband': 3546,\n",
       " 'marry': 4357,\n",
       " 'died': 2302,\n",
       " 'th': 6788,\n",
       " 'delivery': 2235,\n",
       " 'married': 4356,\n",
       " 'sister': 6172,\n",
       " 'arises': 1058,\n",
       " 'hari': 3324,\n",
       " 'fb': 2786,\n",
       " 'list': 4128,\n",
       " 'chennai': 1760,\n",
       " 'settled': 6026,\n",
       " 'happened': 3312,\n",
       " 'cruise': 2087,\n",
       " 'part': 5072,\n",
       " 'iq': 3721,\n",
       " 'piece': 5197,\n",
       " 'dot': 2419,\n",
       " 'beauty': 1273,\n",
       " 'pimples': 5204,\n",
       " 'stomach': 6480,\n",
       " 'thru': 6871,\n",
       " 'trauma': 7020,\n",
       " 'swear': 6643,\n",
       " 'eat': 2515,\n",
       " 'lose': 4198,\n",
       " 'weight': 7452,\n",
       " 'something': 6295,\n",
       " 'langport': 3995,\n",
       " 'town': 6998,\n",
       " 'nan': 4678,\n",
       " 'yalrigu': 7682,\n",
       " 'heltini': 3395,\n",
       " 'iyo': 3755,\n",
       " 'kothi': 3957,\n",
       " 'chikku': 1776,\n",
       " 'shared': 6056,\n",
       " 'many': 4340,\n",
       " 'wit': 7556,\n",
       " 'far': 2767,\n",
       " 'didn': 2298,\n",
       " 'told': 6946,\n",
       " 'body': 1407,\n",
       " 'uttered': 7232,\n",
       " 'abt': 765,\n",
       " 'trusting': 7053,\n",
       " 'these': 6826,\n",
       " 'nxt': 4851,\n",
       " 'those': 6851,\n",
       " 'words': 7601,\n",
       " 'puttin': 5502,\n",
       " 'fone': 2913,\n",
       " 'ta': 6670,\n",
       " 'daaaaa': 2143,\n",
       " 'hospital': 3490,\n",
       " 'return': 5752,\n",
       " 'na': 4663,\n",
       " 'gep': 3103,\n",
       " 'bus': 1564,\n",
       " 'worry': 7614,\n",
       " 'finished': 2847,\n",
       " 'march': 4346,\n",
       " 'ish': 3730,\n",
       " 'news': 4749,\n",
       " 'freefone': 2973,\n",
       " '08006344447': 53,\n",
       " 'cash': 1671,\n",
       " '2000': 345,\n",
       " 'gift': 3119,\n",
       " 'live': 4139,\n",
       " 'operator': 4944,\n",
       " 'usf': 7223,\n",
       " 'guess': 3251,\n",
       " 'car': 1644,\n",
       " 'germany': 3105,\n",
       " 'pence': 5127,\n",
       " 'minute': 4489,\n",
       " 'line': 4112,\n",
       " 'via': 7280,\n",
       " 'access': 774,\n",
       " '0844': 58,\n",
       " '861': 682,\n",
       " '85': 673,\n",
       " 'prepayment': 5375,\n",
       " 'direct': 2329,\n",
       " 'telediscount': 6739,\n",
       " 'costa': 2017,\n",
       " 'sol': 6280,\n",
       " 'holiday': 3456,\n",
       " '5000': 537,\n",
       " 'await': 1161,\n",
       " 'collection': 1889,\n",
       " '09050090044': 163,\n",
       " 'toclaim': 6934,\n",
       " 'sae': 5860,\n",
       " 'tc': 6718,\n",
       " 'pobox334': 5259,\n",
       " 'stockport': 6478,\n",
       " 'sk38xh': 6186,\n",
       " 'cost': 2016,\n",
       " 'max10mins': 4386,\n",
       " 'missed': 4498,\n",
       " ...}"
      ]
     },
     "execution_count": 87,
     "metadata": {},
     "output_type": "execute_result"
    }
   ],
   "source": [
    "v.vocabulary_"
   ]
  },
  {
   "cell_type": "code",
   "execution_count": 91,
   "id": "4cc1d0b7-4f76-4fd0-a587-440ff5d90038",
   "metadata": {},
   "outputs": [
    {
     "data": {
      "text/plain": [
       "'yeah'"
      ]
     },
     "execution_count": 91,
     "metadata": {},
     "output_type": "execute_result"
    }
   ],
   "source": [
    "v.get_feature_names_out()[7692]"
   ]
  },
  {
   "cell_type": "code",
   "execution_count": 95,
   "id": "99cd4316-2d31-4d6b-a5e8-386ba84a9c70",
   "metadata": {},
   "outputs": [],
   "source": [
    "X_train_np = X_train_cv.toarray()"
   ]
  },
  {
   "cell_type": "code",
   "execution_count": 99,
   "id": "e39d8529-3cae-494b-851f-9b9b7a5c8ba6",
   "metadata": {},
   "outputs": [
    {
     "data": {
      "text/plain": [
       "array([0, 0, 0, ..., 0, 0, 0])"
      ]
     },
     "execution_count": 99,
     "metadata": {},
     "output_type": "execute_result"
    }
   ],
   "source": [
    "X_train_np[0]"
   ]
  },
  {
   "cell_type": "code",
   "execution_count": 101,
   "id": "a8e7a142-0614-4a79-bd2d-9ab10ea4810a",
   "metadata": {},
   "outputs": [
    {
     "data": {
      "text/plain": [
       "(array([3398, 4147, 4174, 4898, 5495, 6261, 6969]),)"
      ]
     },
     "execution_count": 101,
     "metadata": {},
     "output_type": "execute_result"
    }
   ],
   "source": [
    "np.where(X_train_np[0]!=0)"
   ]
  },
  {
   "cell_type": "code",
   "execution_count": 107,
   "id": "e666853b-f3d0-48a9-9c43-e494dab44f9a",
   "metadata": {},
   "outputs": [
    {
     "data": {
      "text/plain": [
       "1"
      ]
     },
     "execution_count": 107,
     "metadata": {},
     "output_type": "execute_result"
    }
   ],
   "source": [
    "X_train_np[0][3398]"
   ]
  },
  {
   "cell_type": "code",
   "execution_count": 109,
   "id": "9d8edeb9-d3dd-4829-ac09-cd0dac40b0f5",
   "metadata": {},
   "outputs": [
    {
     "data": {
      "text/plain": [
       "'Go until jurong point, crazy.. Available only in bugis n great world la e buffet... Cine there got amore wat...'"
      ]
     },
     "execution_count": 109,
     "metadata": {},
     "output_type": "execute_result"
    }
   ],
   "source": [
    "X_train[0]"
   ]
  },
  {
   "cell_type": "code",
   "execution_count": 111,
   "id": "fc9ebdd5-7201-4207-bcfb-1a6b330565ea",
   "metadata": {},
   "outputs": [],
   "source": [
    "from sklearn.naive_bayes import MultinomialNB"
   ]
  },
  {
   "cell_type": "code",
   "execution_count": 113,
   "id": "997b7282-f7b1-445f-8761-6bd61d9d9d57",
   "metadata": {},
   "outputs": [
    {
     "data": {
      "text/html": [
       "<style>#sk-container-id-1 {color: black;background-color: white;}#sk-container-id-1 pre{padding: 0;}#sk-container-id-1 div.sk-toggleable {background-color: white;}#sk-container-id-1 label.sk-toggleable__label {cursor: pointer;display: block;width: 100%;margin-bottom: 0;padding: 0.3em;box-sizing: border-box;text-align: center;}#sk-container-id-1 label.sk-toggleable__label-arrow:before {content: \"▸\";float: left;margin-right: 0.25em;color: #696969;}#sk-container-id-1 label.sk-toggleable__label-arrow:hover:before {color: black;}#sk-container-id-1 div.sk-estimator:hover label.sk-toggleable__label-arrow:before {color: black;}#sk-container-id-1 div.sk-toggleable__content {max-height: 0;max-width: 0;overflow: hidden;text-align: left;background-color: #f0f8ff;}#sk-container-id-1 div.sk-toggleable__content pre {margin: 0.2em;color: black;border-radius: 0.25em;background-color: #f0f8ff;}#sk-container-id-1 input.sk-toggleable__control:checked~div.sk-toggleable__content {max-height: 200px;max-width: 100%;overflow: auto;}#sk-container-id-1 input.sk-toggleable__control:checked~label.sk-toggleable__label-arrow:before {content: \"▾\";}#sk-container-id-1 div.sk-estimator input.sk-toggleable__control:checked~label.sk-toggleable__label {background-color: #d4ebff;}#sk-container-id-1 div.sk-label input.sk-toggleable__control:checked~label.sk-toggleable__label {background-color: #d4ebff;}#sk-container-id-1 input.sk-hidden--visually {border: 0;clip: rect(1px 1px 1px 1px);clip: rect(1px, 1px, 1px, 1px);height: 1px;margin: -1px;overflow: hidden;padding: 0;position: absolute;width: 1px;}#sk-container-id-1 div.sk-estimator {font-family: monospace;background-color: #f0f8ff;border: 1px dotted black;border-radius: 0.25em;box-sizing: border-box;margin-bottom: 0.5em;}#sk-container-id-1 div.sk-estimator:hover {background-color: #d4ebff;}#sk-container-id-1 div.sk-parallel-item::after {content: \"\";width: 100%;border-bottom: 1px solid gray;flex-grow: 1;}#sk-container-id-1 div.sk-label:hover label.sk-toggleable__label {background-color: #d4ebff;}#sk-container-id-1 div.sk-serial::before {content: \"\";position: absolute;border-left: 1px solid gray;box-sizing: border-box;top: 0;bottom: 0;left: 50%;z-index: 0;}#sk-container-id-1 div.sk-serial {display: flex;flex-direction: column;align-items: center;background-color: white;padding-right: 0.2em;padding-left: 0.2em;position: relative;}#sk-container-id-1 div.sk-item {position: relative;z-index: 1;}#sk-container-id-1 div.sk-parallel {display: flex;align-items: stretch;justify-content: center;background-color: white;position: relative;}#sk-container-id-1 div.sk-item::before, #sk-container-id-1 div.sk-parallel-item::before {content: \"\";position: absolute;border-left: 1px solid gray;box-sizing: border-box;top: 0;bottom: 0;left: 50%;z-index: -1;}#sk-container-id-1 div.sk-parallel-item {display: flex;flex-direction: column;z-index: 1;position: relative;background-color: white;}#sk-container-id-1 div.sk-parallel-item:first-child::after {align-self: flex-end;width: 50%;}#sk-container-id-1 div.sk-parallel-item:last-child::after {align-self: flex-start;width: 50%;}#sk-container-id-1 div.sk-parallel-item:only-child::after {width: 0;}#sk-container-id-1 div.sk-dashed-wrapped {border: 1px dashed gray;margin: 0 0.4em 0.5em 0.4em;box-sizing: border-box;padding-bottom: 0.4em;background-color: white;}#sk-container-id-1 div.sk-label label {font-family: monospace;font-weight: bold;display: inline-block;line-height: 1.2em;}#sk-container-id-1 div.sk-label-container {text-align: center;}#sk-container-id-1 div.sk-container {/* jupyter's `normalize.less` sets `[hidden] { display: none; }` but bootstrap.min.css set `[hidden] { display: none !important; }` so we also need the `!important` here to be able to override the default hidden behavior on the sphinx rendered scikit-learn.org. See: https://github.com/scikit-learn/scikit-learn/issues/21755 */display: inline-block !important;position: relative;}#sk-container-id-1 div.sk-text-repr-fallback {display: none;}</style><div id=\"sk-container-id-1\" class=\"sk-top-container\"><div class=\"sk-text-repr-fallback\"><pre>MultinomialNB()</pre><b>In a Jupyter environment, please rerun this cell to show the HTML representation or trust the notebook. <br />On GitHub, the HTML representation is unable to render, please try loading this page with nbviewer.org.</b></div><div class=\"sk-container\" hidden><div class=\"sk-item\"><div class=\"sk-estimator sk-toggleable\"><input class=\"sk-toggleable__control sk-hidden--visually\" id=\"sk-estimator-id-1\" type=\"checkbox\" checked><label for=\"sk-estimator-id-1\" class=\"sk-toggleable__label sk-toggleable__label-arrow\">MultinomialNB</label><div class=\"sk-toggleable__content\"><pre>MultinomialNB()</pre></div></div></div></div></div>"
      ],
      "text/plain": [
       "MultinomialNB()"
      ]
     },
     "execution_count": 113,
     "metadata": {},
     "output_type": "execute_result"
    }
   ],
   "source": [
    "model = MultinomialNB()\n",
    "model.fit(X_train_cv,y_train)"
   ]
  },
  {
   "cell_type": "code",
   "execution_count": 115,
   "id": "bd71cdbc-d292-4169-974f-f48cc33ca0af",
   "metadata": {},
   "outputs": [],
   "source": [
    "X_test_cv = v.transform(X_test)"
   ]
  },
  {
   "cell_type": "code",
   "execution_count": 121,
   "id": "94852bbd-c8e2-4c8d-a098-46cc2b6a901d",
   "metadata": {},
   "outputs": [
    {
     "data": {
      "text/plain": [
       "array([[0, 0, 0, ..., 0, 0, 0],\n",
       "       [0, 0, 0, ..., 0, 0, 0],\n",
       "       [0, 0, 0, ..., 0, 0, 0],\n",
       "       ...,\n",
       "       [0, 0, 0, ..., 0, 0, 0],\n",
       "       [0, 0, 0, ..., 0, 0, 0],\n",
       "       [0, 0, 0, ..., 0, 0, 0]])"
      ]
     },
     "execution_count": 121,
     "metadata": {},
     "output_type": "execute_result"
    }
   ],
   "source": [
    "X_test_cv.toarray()"
   ]
  },
  {
   "cell_type": "code",
   "execution_count": 123,
   "id": "98095ca9-c3d0-4002-b090-456eb63aa5e0",
   "metadata": {},
   "outputs": [],
   "source": [
    "y_pred = model.predict(X_test_cv)"
   ]
  },
  {
   "cell_type": "code",
   "execution_count": 125,
   "id": "6bbdc58b-543d-4cd2-8b1f-fb3cc32ac5b7",
   "metadata": {},
   "outputs": [],
   "source": [
    "from sklearn.metrics import classification_report"
   ]
  },
  {
   "cell_type": "code",
   "execution_count": 131,
   "id": "b6bf9b2b-acab-4ab0-abab-4da1292fdd29",
   "metadata": {},
   "outputs": [
    {
     "name": "stdout",
     "output_type": "stream",
     "text": [
      "              precision    recall  f1-score   support\n",
      "\n",
      "           0       0.99      0.99      0.99       964\n",
      "           1       0.95      0.91      0.93       151\n",
      "\n",
      "    accuracy                           0.98      1115\n",
      "   macro avg       0.97      0.95      0.96      1115\n",
      "weighted avg       0.98      0.98      0.98      1115\n",
      "\n"
     ]
    }
   ],
   "source": [
    "print(classification_report(y_test,y_pred))"
   ]
  },
  {
   "cell_type": "code",
   "execution_count": 133,
   "id": "69bd3e8d-66a8-4b76-bea0-b928df707b22",
   "metadata": {},
   "outputs": [
    {
     "data": {
      "text/plain": [
       "array([0, 1])"
      ]
     },
     "execution_count": 133,
     "metadata": {},
     "output_type": "execute_result"
    }
   ],
   "source": [
    "emails = [\n",
    "    'Hey mohan, can we get together to watch footbal game tomorrow?',\n",
    "    'Upto 20% discount on parking, exclusive offer just for you. Dont miss this reward!'\n",
    "]\n",
    "\n",
    "emails_count = v.transform(emails)\n",
    "model.predict(emails_count)"
   ]
  },
  {
   "cell_type": "code",
   "execution_count": null,
   "id": "2bf8708c-b3be-48b5-b0fa-4d897aa934b0",
   "metadata": {},
   "outputs": [],
   "source": []
  }
 ],
 "metadata": {
  "kernelspec": {
   "display_name": "Python 3 (ipykernel)",
   "language": "python",
   "name": "python3"
  },
  "language_info": {
   "codemirror_mode": {
    "name": "ipython",
    "version": 3
   },
   "file_extension": ".py",
   "mimetype": "text/x-python",
   "name": "python",
   "nbconvert_exporter": "python",
   "pygments_lexer": "ipython3",
   "version": "3.11.7"
  }
 },
 "nbformat": 4,
 "nbformat_minor": 5
}
