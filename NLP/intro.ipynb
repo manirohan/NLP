{
 "cells": [
  {
   "cell_type": "code",
   "execution_count": 1,
   "id": "f0bb608c-4276-43ad-ad8b-2d9c254e86ef",
   "metadata": {},
   "outputs": [],
   "source": [
    "import re"
   ]
  },
  {
   "cell_type": "code",
   "execution_count": 3,
   "id": "ef821cd6-2ebd-48da-a110-f6e6e8ded02c",
   "metadata": {},
   "outputs": [],
   "source": [
    "chat1 = \"John's phone: +1-555-123-4567  Email: john.doe@example.com\"\n",
    "\n",
    "chat2 = \"Jane's contact: (555) 987-6543  Email: jane_doe123@gmail.com  \"\n",
    "\n",
    "chat3 = \"Support line: 800-555-0199  Email: support@company.com  \"\n",
    "\n",
    "chat4 = \"Marketing: +44 20 7946 0958  Email: marketing.team@business.org  \"\n",
    "\n",
    "chat5 = \"Emergency: 911  Email: emergency_contact@help.net  \"\n",
    "\n",
    "chat6 = \"Fake numbers: 123-456-7890, +91-98765-43210, (123) 456-7890  Emails: test.user@domain.io, random.email@xyz.com, my.mail_99@web.net\""
   ]
  },
  {
   "cell_type": "code",
   "execution_count": 37,
   "id": "a54ae84a-e200-4b15-bc0d-a978740b485a",
   "metadata": {},
   "outputs": [
    {
     "data": {
      "text/plain": [
       "['555-123-4567']"
      ]
     },
     "execution_count": 37,
     "metadata": {},
     "output_type": "execute_result"
    }
   ],
   "source": [
    "pattern = 'd{10}|\\d{3}\\-\\d{3}-\\d{4}'\n",
    "re.findall(pattern,chat1)"
   ]
  },
  {
   "cell_type": "code",
   "execution_count": 35,
   "id": "d9703de0-df87-49ac-b2de-fb83c534861c",
   "metadata": {},
   "outputs": [
    {
     "name": "stdout",
     "output_type": "stream",
     "text": [
      "['john.doe@example.com']\n",
      "['jane_doe123@gmail.com']\n",
      "['support@company.com']\n",
      "['marketing.team@business.org']\n",
      "['emergency_contact@help.net']\n",
      "['test.user@domain.io', 'random.email@xyz.com', 'my.mail_99@web.net']\n"
     ]
    }
   ],
   "source": [
    "pattern = '[a-z0-9\\._]*@[a-z0-9\\._]*'\n",
    "for i in range(1,7):\n",
    "    print(re.findall(pattern,globals()[f'chat{i}']))"
   ]
  },
  {
   "cell_type": "code",
   "execution_count": null,
   "id": "00a86c95-ddc4-414f-8133-4fdb5c62ac18",
   "metadata": {},
   "outputs": [],
   "source": [
    "pattern = '[^a-z'"
   ]
  },
  {
   "cell_type": "code",
   "execution_count": 39,
   "id": "d48c5801-f39a-450b-8047-84018f5c3056",
   "metadata": {},
   "outputs": [],
   "source": [
    "text = '''Portrait of Elon Musk, a white, middle-age man with short, dark hair, wearing a morning coat\n",
    "Musk in 2018\n",
    "Leader of the Department of Government Efficiency\n",
    "Incumbent\n",
    "Assumed office\n",
    "January 20, 2025\n",
    "President\tDonald Trump\n",
    "Personal details\n",
    "Born\tElon Reeve Musk\n",
    "June 28, 1971 (age 53)\n",
    "Pretoria, Transvaal, South Africa\n",
    "Citizenship\t\n",
    "South Africa\n",
    "Canada (from 1989)\n",
    "United States (from 2002)\n",
    "Political party\tRepublican\n",
    "Spouses\t\n",
    "Justine Wilson\n",
    "​\n",
    "​(m. 2000; div. 2008)​\n",
    "Talulah Riley\n",
    "​\n",
    "​(m. 2010; div. 2012)​\n",
    "​\n",
    "​(m. 2013; div. 2016)​\n",
    "Children\t12[1]\n",
    "Parents\t\n",
    "Errol Musk (father)\n",
    "Maye Musk (mother)\n",
    "Education\tUniversity of Pennsylvania (BA, BS)\n",
    "Occupation\t\n",
    "Founder, CEO, and chief engineer of SpaceX\n",
    "CEO and product architect of Tesla, Inc.\n",
    "Owner, CTO and executive chairman of X (formerly Twitter)\n",
    "Founder of The Boring Company, X Corp., and xAI\n",
    "Co-founder of Neuralink, OpenAI, Zip2, and X.com (part of PayPal)\n",
    "President of the Musk Foundation\n",
    "Awards\tFull list\n",
    "Signature'''"
   ]
  },
  {
   "cell_type": "code",
   "execution_count": 41,
   "id": "dd67989c-3a28-465c-9af6-c06c3fb3458d",
   "metadata": {},
   "outputs": [
    {
     "data": {
      "text/plain": [
       "'Portrait of Elon Musk, a white, middle-age man with short, dark hair, wearing a morning coat\\nMusk in 2018\\nLeader of the Department of Government Efficiency\\nIncumbent\\nAssumed office\\nJanuary 20, 2025\\nPresident\\tDonald Trump\\nPersonal details\\nBorn\\tElon Reeve Musk\\nJune 28, 1971 (age 53)\\nPretoria, Transvaal, South Africa\\nCitizenship\\t\\nSouth Africa\\nCanada (from 1989)\\nUnited States (from 2002)\\nPolitical party\\tRepublican\\nSpouses\\t\\nJustine Wilson\\n\\u200b\\n\\u200b(m. 2000; div. 2008)\\u200b\\nTalulah Riley\\n\\u200b\\n\\u200b(m. 2010; div. 2012)\\u200b\\n\\u200b\\n\\u200b(m. 2013; div. 2016)\\u200b\\nChildren\\t12[1]\\nParents\\t\\nErrol Musk (father)\\nMaye Musk (mother)\\nEducation\\tUniversity of Pennsylvania (BA, BS)\\nOccupation\\t\\nFounder, CEO, and chief engineer of SpaceX\\nCEO and product architect of Tesla, Inc.\\nOwner, CTO and executive chairman of X (formerly Twitter)\\nFounder of The Boring Company, X Corp., and xAI\\nCo-founder of Neuralink, OpenAI, Zip2, and X.com (part of PayPal)\\nPresident of the Musk Foundation\\nAwards\\tFull list\\nSignature'"
      ]
     },
     "execution_count": 41,
     "metadata": {},
     "output_type": "execute_result"
    }
   ],
   "source": [
    "text"
   ]
  },
  {
   "cell_type": "code",
   "execution_count": 69,
   "id": "7728291c-6aa4-484f-9cff-f2949d1385ff",
   "metadata": {},
   "outputs": [],
   "source": [
    "pattern = 'Born(.*)'"
   ]
  },
  {
   "cell_type": "code",
   "execution_count": 83,
   "id": "9fffb76d-0909-414f-aa47-0d79dce1457d",
   "metadata": {},
   "outputs": [
    {
     "data": {
      "text/plain": [
       "'Elon Reeve Musk'"
      ]
     },
     "execution_count": 83,
     "metadata": {},
     "output_type": "execute_result"
    }
   ],
   "source": [
    "re.findall(pattern,text)[0].strip()"
   ]
  },
  {
   "cell_type": "code",
   "execution_count": null,
   "id": "116d4348-863a-4b71-9740-e4750fc31139",
   "metadata": {},
   "outputs": [],
   "source": []
  }
 ],
 "metadata": {
  "kernelspec": {
   "display_name": "Python 3 (ipykernel)",
   "language": "python",
   "name": "python3"
  },
  "language_info": {
   "codemirror_mode": {
    "name": "ipython",
    "version": 3
   },
   "file_extension": ".py",
   "mimetype": "text/x-python",
   "name": "python",
   "nbconvert_exporter": "python",
   "pygments_lexer": "ipython3",
   "version": "3.11.7"
  }
 },
 "nbformat": 4,
 "nbformat_minor": 5
}
