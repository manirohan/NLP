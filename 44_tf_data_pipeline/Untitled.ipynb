{
 "cells": [
  {
   "cell_type": "code",
   "execution_count": 2,
   "id": "6b9712a4",
   "metadata": {},
   "outputs": [],
   "source": [
    "import tensorflow as tf"
   ]
  },
  {
   "cell_type": "code",
   "execution_count": 3,
   "id": "c47acad3",
   "metadata": {},
   "outputs": [],
   "source": [
    "daily_sales_numbers = [21, 22, -108, 31, -1, 32, 34,31]"
   ]
  },
  {
   "cell_type": "code",
   "execution_count": 4,
   "id": "f31db9a3",
   "metadata": {},
   "outputs": [],
   "source": [
    "tf_dataset = tf.data.Dataset.from_tensor_slices(daily_sales_numbers)"
   ]
  },
  {
   "cell_type": "code",
   "execution_count": 7,
   "id": "9fded8c6",
   "metadata": {},
   "outputs": [
    {
     "data": {
      "text/plain": [
       "<_TensorSliceDataset element_spec=TensorSpec(shape=(), dtype=tf.int32, name=None)>"
      ]
     },
     "execution_count": 7,
     "metadata": {},
     "output_type": "execute_result"
    }
   ],
   "source": [
    "tf_dataset"
   ]
  },
  {
   "cell_type": "code",
   "execution_count": 8,
   "id": "80134ec7",
   "metadata": {},
   "outputs": [
    {
     "name": "stdout",
     "output_type": "stream",
     "text": [
      "21\n",
      "22\n",
      "-108\n",
      "31\n",
      "-1\n",
      "32\n",
      "34\n",
      "31\n"
     ]
    },
    {
     "name": "stderr",
     "output_type": "stream",
     "text": [
      "2025-01-26 17:36:11.866663: I tensorflow/core/framework/local_rendezvous.cc:405] Local rendezvous is aborting with status: OUT_OF_RANGE: End of sequence\n"
     ]
    }
   ],
   "source": [
    "for i in tf_dataset:\n",
    "    print(i.numpy())"
   ]
  },
  {
   "cell_type": "code",
   "execution_count": 10,
   "id": "92958291",
   "metadata": {},
   "outputs": [
    {
     "name": "stdout",
     "output_type": "stream",
     "text": [
      "21\n",
      "22\n",
      "-108\n"
     ]
    }
   ],
   "source": [
    "for i in tf_dataset.take(3):\n",
    "    print(i.numpy())"
   ]
  },
  {
   "cell_type": "code",
   "execution_count": 12,
   "id": "28290177",
   "metadata": {},
   "outputs": [
    {
     "name": "stdout",
     "output_type": "stream",
     "text": [
      "21\n",
      "22\n",
      "31\n",
      "32\n",
      "34\n",
      "31\n"
     ]
    },
    {
     "name": "stderr",
     "output_type": "stream",
     "text": [
      "2025-01-26 17:38:32.613524: I tensorflow/core/framework/local_rendezvous.cc:405] Local rendezvous is aborting with status: OUT_OF_RANGE: End of sequence\n"
     ]
    }
   ],
   "source": [
    "tf_dataset = tf_dataset.filter(lambda x:x>0)\n",
    "for i in tf_dataset:\n",
    "    print(i.numpy())"
   ]
  },
  {
   "cell_type": "code",
   "execution_count": 13,
   "id": "4c396277",
   "metadata": {},
   "outputs": [
    {
     "name": "stdout",
     "output_type": "stream",
     "text": [
      "1806\n",
      "1892\n",
      "2666\n",
      "2752\n",
      "2924\n",
      "2666\n"
     ]
    }
   ],
   "source": [
    "tf_dataset = tf_dataset.map(lambda x:x*86)\n",
    "for i in tf_dataset:\n",
    "    print(i.numpy())"
   ]
  },
  {
   "cell_type": "code",
   "execution_count": 15,
   "id": "e111a11c",
   "metadata": {},
   "outputs": [
    {
     "name": "stdout",
     "output_type": "stream",
     "text": [
      "1892\n",
      "2666\n",
      "1806\n",
      "2924\n",
      "2666\n",
      "2752\n"
     ]
    }
   ],
   "source": [
    "tf_dataset = tf_dataset.shuffle(2)\n",
    "for i in tf_dataset:\n",
    "    print(i.numpy())"
   ]
  },
  {
   "cell_type": "code",
   "execution_count": 16,
   "id": "7582027f",
   "metadata": {},
   "outputs": [
    {
     "name": "stdout",
     "output_type": "stream",
     "text": [
      "[1806 1892 2752]\n",
      "[2666 2666 2924]\n"
     ]
    }
   ],
   "source": [
    "for i in tf_dataset.batch(3):\n",
    "    print(i.numpy())"
   ]
  },
  {
   "cell_type": "code",
   "execution_count": 18,
   "id": "f1373e02",
   "metadata": {},
   "outputs": [
    {
     "name": "stdout",
     "output_type": "stream",
     "text": [
      "[1892 2666]\n",
      "[2752 1806]\n",
      "[2666 2924]\n"
     ]
    }
   ],
   "source": [
    "tf_dataset = tf.data.Dataset.from_tensor_slices(daily_sales_numbers)\n",
    "tf_dataset = tf_dataset.filter(lambda x:x>0).map(lambda y:y*86).shuffle(2).batch(2)\n",
    "for i in tf_dataset:\n",
    "    print(i.numpy())"
   ]
  },
  {
   "cell_type": "code",
   "execution_count": 19,
   "id": "00aeeba7",
   "metadata": {},
   "outputs": [],
   "source": [
    "images_ds = tf.data.Dataset.list_files('images/*/*', shuffle=False)"
   ]
  },
  {
   "cell_type": "code",
   "execution_count": 21,
   "id": "4474c1da",
   "metadata": {},
   "outputs": [
    {
     "name": "stdout",
     "output_type": "stream",
     "text": [
      "b'images/cat/20 Reasons Why Cats Make the Best Pets....jpg'\n",
      "b'images/cat/7 Foods Your Cat Can_t Eat.jpg'\n",
      "b'images/cat/A cat appears to have caught the....jpg'\n",
      "b'images/cat/Adopt-A-Cat Month\\xc2\\xae - American Humane....jpg'\n"
     ]
    }
   ],
   "source": [
    "for i in images_ds.take(4):\n",
    "    print(i.numpy())"
   ]
  },
  {
   "cell_type": "code",
   "execution_count": 25,
   "id": "e277067a",
   "metadata": {},
   "outputs": [
    {
     "name": "stdout",
     "output_type": "stream",
     "text": [
      "b'images/cat/Alley Cat Allies _ An Advocacy....jpg'\n",
      "b'images/dog/Trained dogs can smell coronavirus in....jpg'\n",
      "b'images/dog/Most Expensive Dog Breeds For Pet....png'\n",
      "b'images/dog/Calculate Your Dog_s Age With This New....jpg'\n",
      "b'images/cat/Famous Cat Performances in Movies_ Ranked.jpg'\n",
      "b'images/dog/convert dog years to human years....jpg'\n",
      "b'images/dog/Soi Dog Foundation _ Ending The....jpg'\n",
      "b'images/dog/best dog treats_ according to veterinarians.jpg'\n",
      "b'images/dog/List of Dog Breeds _ Petfinder.jpg'\n",
      "b'images/dog/Welcoming Your Adopted Dog Into Your....jpg'\n",
      "b'images/dog/10 Teacup Dog Breeds for Tiny Canine Lovers.jpg'\n",
      "b'images/cat/Soon_ the internet will make its own....jpg'\n",
      "b'images/dog/25 Best Small Dog Breeds \\xe2\\x80\\x94 Cute and....jpg'\n",
      "b'images/dog/Best Hypoallergenic Dogs [Updated....jpg'\n",
      "b'images/dog/How To Read Your Dog_s Body Language....png'\n",
      "b'images/dog/How to make your dog feel comfortable....jpg'\n",
      "b'images/dog/45 Best Large Dog Breeds - Top Big Dogs_yyth....jpg'\n",
      "b'images/dog/First dog Major back at White House....jpg'\n",
      "b'images/dog/The 25 Cutest Dog Breeds - Most....jpg'\n",
      "b'images/dog/Best Dog & Puppy Health Insurance Plans....jpg'\n",
      "b'images/cat/Learn what to do with Stray and Feral....jpg'\n",
      "b'images/dog/50 dog breeds and their history that....jpg'\n",
      "b'images/dog/Mood-Boosting Benefits of Pets....jpg'\n",
      "b'images/dog/2nd pet dog tests positive for COVID-19....jpg'\n",
      "b'images/dog/Hot dogs_ what soaring puppy thefts....jpg'\n",
      "b'images/cat/Orlando Cat Caf\\xc3\\xa9.png'\n",
      "b'images/dog/The US Army is testing augmented....jpg'\n",
      "b'images/dog/Aggression in dogs _ Animal Humane Society.jpg'\n",
      "b'images/cat/Adopt-A-Cat Month\\xc2\\xae - American Humane....jpg'\n",
      "b'images/dog/Great Dane - Wikipedia.jpg'\n",
      "b'images/cat/The Cat Health Checklist_ Everything....jpg'\n",
      "b'images/cat/Cats really do need their humans_ even....jpg'\n",
      "b'images/cat/The Joys of Owning a Cat - HelpGuide.org.jpg'\n",
      "b'images/dog/Most Popular Dog Names of 2020....jpg'\n",
      "b'images/cat/How to Determine Your Cat_s Age.jpg'\n",
      "b'images/cat/Cat Throwing Up_ Normal or Cause for....jpg'\n",
      "b'images/dog/Rottweiler Dog Breed Information....jpg'\n",
      "b'images/dog/Haunted Victorian Child_ Dog....jpg'\n",
      "b'images/cat/Urine Marking in Cats _ ASPCA.jpg'\n",
      "b'images/dog/11 Things Humans Do That Dogs Hate.jpg'\n",
      "b'images/dog/Common Dog Breeds and Their Health Issues.jpg'\n",
      "b'images/dog/Dogs _ Healthy Pets_ Healthy People _ CDC.jpg'\n",
      "b'images/dog/Service Dogs from Southeastern Guide Dogs.jpg'\n",
      "b'images/cat/Texas lawyer accidentally uses cat....jpg'\n",
      "b'images/dog/AKC Pet Insurance _ Health Insurance....png'\n",
      "b'images/dog/Puppy Dog Pictures _ Download Free....jpg'\n",
      "b'images/dog/Soi Dog Foundation _ Ending The... (1).jpg'\n",
      "b'images/cat/Cats _ The Humane Society of the United....jpg'\n",
      "b'images/dog/Dog - Role in human societies _ Britannica.jpg'\n",
      "b'images/dog/The Importance of Walking Your Dog....jpg'\n",
      "b'images/cat/Cats Care About People More Than Food....jpg'\n",
      "b'images/dog/Dog Breeds Banned By Home Insurance....jpg'\n",
      "b'images/dog/List of dog breeds - Wikipedia.jpg'\n",
      "b'images/dog/dog existed at the end of the Ice Age_yythkg....jpg'\n",
      "b'images/cat/Thinking of getting a cat....png'\n",
      "b'images/cat/Pet Insurance for Cats & Kittens _ Petplan.png'\n",
      "b'images/dog/real_ age_ you_ll need a calculator....jpg'\n",
      "b'images/cat/Home_ sweet home_ How to bring an....jpg'\n",
      "b'images/dog/25 Low-Maintenance Dog Breeds for....jpg'\n",
      "b'images/dog/Why Grumpy Dogs Outperform Friendly....jpg'\n",
      "b'images/dog/50 Cutest Dog Breeds as Puppies....jpg'\n",
      "b'images/cat/Are Cats Domesticated_ _ The New Yorker.jpg'\n",
      "b'images/cat/Cat Advice _ Collecting a Urine Sample....jpg'\n",
      "b'images/dog/How dogs contribute to your health and....jpg'\n",
      "b'images/dog/why dogs understand our body language....jpg'\n",
      "b'images/dog/Germany_ Dogs must be walked twice a....jpg'\n",
      "b'images/cat/The Science-Backed Benefits of Being a....jpg'\n",
      "b'images/dog/20 must-have products for new dog owners.jpg'\n",
      "b'images/dog/Body Condition Score....jpg'\n",
      "b'images/dog/How Many Dog Breeds Are There_ _ Hill_s Pet.jpg'\n",
      "b'images/cat/Reality check_ Can cat poop cause....jpg'\n",
      "b'images/dog/9 Reasons to Own a Dog.jpg'\n",
      "b'images/dog/Most Popular Breeds \\xe2\\x80\\x93 American Kennel Club.jpg'\n",
      "b'images/dog/The Best Dogs of BBC Earth _ Top 5....jpg'\n",
      "b'images/dog/Modern Dog magazine _ the best dog....jpg'\n",
      "b'images/dog/8 amazing Indian dog breeds that....png'\n",
      "b'images/cat/What does the COVID-19 summer surge....jpg'\n",
      "b'images/dog/Canine Mind....jpg'\n",
      "b'images/dog/7 Tips on Canine Body Language _ ASPCApro.jpg'\n",
      "b'images/dog/Which Pop Culture Dog Is Best in Show....jpg'\n",
      "b'images/dog/Largest Dog Breeds \\xe2\\x80\\x93 American Kennel Club.jpg'\n",
      "b'images/dog/Cats and Dogs.jpg'\n",
      "b'images/cat/20 Reasons Why Cats Make the Best Pets....jpg'\n",
      "b'images/dog/Dog collars _ The Humane Society of the....jpg'\n",
      "b'images/cat/Giving cats food with an antibody may....jpg'\n",
      "b'images/dog/Those Puppy Dog Eyes You Can_t Resist....jpg'\n",
      "b'images/cat/The 10 Best Types of Cat _ Britannica.jpg'\n",
      "b'images/cat/Why Cats Sniff Rear Ends _ VCA Animal....png'\n",
      "b'images/dog/Colitis in Dogs _ VCA Animal Hospital.jpg'\n",
      "b'images/cat/Cat intelligence - Wikipedia.jpg'\n",
      "b'images/dog/How My Dog Knows When I_m Sick - The....jpg'\n",
      "b'images/dog/The 20 Best Dog Breeds for Runners....jpg'\n",
      "b'images/dog/Important Things Every Dog Owner Should....jpg'\n",
      "b'images/cat/Why Do Cats Hate Water_ _ Britannica.jpg'\n",
      "b'images/cat/A cat appears to have caught the....jpg'\n",
      "b'images/dog/Most Popular Dog Breeds According....jpg'\n",
      "b'images/dog/Hong Kong dog causes panic \\xe2\\x80\\x93 but here_s... (1).jpg'\n",
      "b'images/dog/Southeastern Guide Dogs - YouTube.jpg'\n",
      "b'images/dog/scientists explain puppy dog eyes....jpg'\n",
      "b'images/dog/Are Dogs Really Color-Blind_ _ Britannica.jpg'\n",
      "b'images/cat/Is My Cat Normal_.jpg'\n",
      "b'images/dog/Ancient dog DNA reveals 11_000 years of....jpg'\n",
      "b'images/dog/What makes dogs so special and....jpg'\n",
      "b'images/dog/100_ Dogs Pictures _ Download Free....jpg'\n",
      "b'images/cat/What to do if your cat is marking....jpg'\n",
      "b'images/cat/Want your cat to stay in purrrfect....jpg'\n",
      "b'images/dog/Subaru Shows Love for Dogs Through the....jpg'\n",
      "b'images/cat/International Cat Care _ The ultimate....jpg'\n",
      "b'images/dog/Dog Breed Chart....jpg'\n",
      "b'images/cat/China_s First Cloned Kitten_ Garlic....png'\n",
      "b'images/dog/Top 10 Smartest Dog Breeds - Most....jpg'\n",
      "b'images/dog/The History of Dogs as Pets - ABC News.jpg'\n",
      "b'images/dog/Maltese Dog Breed Information_ Pictures....jpg'\n",
      "b'images/cat/New Cat Checklist 2021_ Supplies for....jpg'\n",
      "b'images/dog/66 gifts for dogs or dog lovers to get_yythk....jpg'\n",
      "b'images/dog/been calculating dog years wrong....jpg'\n",
      "b'images/dog/The Black Dog Tavern Company _ Life off....jpg'\n",
      "b'images/dog/Genes contribute to dog breeds_ iconic....jpg'\n",
      "b'images/dog/Science_ Talking to Your Dog Means You....jpg'\n",
      "b'images/cat/All About Your Cat_s Tongue.jpg'\n",
      "b'images/dog/15 Amazing Facts About Dogs That Will....jpg'\n",
      "b'images/dog/Dogs caught coronavirus from their....jpg'\n",
      "b'images/cat/7 Foods Your Cat Can_t Eat.jpg'\n",
      "b'images/cat/How to buy the best cat food_ according....jpg'\n",
      "b'images/dog/The Cost of Owning a Dog.jpg'\n",
      "b'images/dog/Carolina Dog Dog Breed Information....jpg'\n",
      "b'images/dog/Rescue turns dog with untreatable tumor....jpg'\n",
      "b'images/dog/356 Free Dog Stock Photos - CC0 Images.jpg'\n",
      "b'images/cat/Stray Cat Alliance \\xc2\\xbb Building a No Kill....jpg'\n",
      "b'images/dog/Hong Kong dog causes panic \\xe2\\x80\\x93 but here_s....jpg'\n"
     ]
    }
   ],
   "source": [
    "images_ds = images_ds.shuffle(200)\n",
    "for i in images_ds:\n",
    "    print(i.numpy())"
   ]
  },
  {
   "cell_type": "code",
   "execution_count": 26,
   "id": "7caf8557",
   "metadata": {},
   "outputs": [
    {
     "data": {
      "text/plain": [
       "130"
      ]
     },
     "execution_count": 26,
     "metadata": {},
     "output_type": "execute_result"
    }
   ],
   "source": [
    "image_count = len(images_ds)\n",
    "image_count"
   ]
  },
  {
   "cell_type": "code",
   "execution_count": 27,
   "id": "d64b6e8d",
   "metadata": {},
   "outputs": [],
   "source": [
    "train_size = int(image_count*0.8)\n",
    "test_size = int(image_count*0.2)"
   ]
  },
  {
   "cell_type": "code",
   "execution_count": 28,
   "id": "254aadf1",
   "metadata": {},
   "outputs": [],
   "source": [
    "def get_labels(file_path):\n",
    "    return file_path.split('\\\\')[-2]"
   ]
  },
  {
   "cell_type": "code",
   "execution_count": 29,
   "id": "da9be654",
   "metadata": {},
   "outputs": [
    {
     "ename": "TypeError",
     "evalue": "a bytes-like object is required, not 'str'",
     "output_type": "error",
     "traceback": [
      "\u001b[0;31m---------------------------------------------------------------------------\u001b[0m",
      "\u001b[0;31mTypeError\u001b[0m                                 Traceback (most recent call last)",
      "Cell \u001b[0;32mIn[29], line 2\u001b[0m\n\u001b[1;32m      1\u001b[0m \u001b[38;5;28;01mfor\u001b[39;00m i \u001b[38;5;129;01min\u001b[39;00m images_ds:\n\u001b[0;32m----> 2\u001b[0m     \u001b[38;5;28mprint\u001b[39m(get_labels(i\u001b[38;5;241m.\u001b[39mnumpy()))\n",
      "Cell \u001b[0;32mIn[28], line 2\u001b[0m, in \u001b[0;36mget_labels\u001b[0;34m(file_path)\u001b[0m\n\u001b[1;32m      1\u001b[0m \u001b[38;5;28;01mdef\u001b[39;00m \u001b[38;5;21mget_labels\u001b[39m(file_path):\n\u001b[0;32m----> 2\u001b[0m     \u001b[38;5;28;01mreturn\u001b[39;00m file_path\u001b[38;5;241m.\u001b[39msplit(\u001b[38;5;124m'\u001b[39m\u001b[38;5;130;01m\\\\\u001b[39;00m\u001b[38;5;124m'\u001b[39m)[\u001b[38;5;241m-\u001b[39m\u001b[38;5;241m2\u001b[39m]\n",
      "\u001b[0;31mTypeError\u001b[0m: a bytes-like object is required, not 'str'"
     ]
    }
   ],
   "source": [
    "tf_dataset = tf_dataset.map(get_labels)\n",
    "for i in images_ds:\n",
    "    print(i.numpy())"
   ]
  },
  {
   "cell_type": "code",
   "execution_count": null,
   "id": "e384cd60",
   "metadata": {},
   "outputs": [],
   "source": []
  }
 ],
 "metadata": {
  "kernelspec": {
   "display_name": "Python 3 (ipykernel)",
   "language": "python",
   "name": "python3"
  },
  "language_info": {
   "codemirror_mode": {
    "name": "ipython",
    "version": 3
   },
   "file_extension": ".py",
   "mimetype": "text/x-python",
   "name": "python",
   "nbconvert_exporter": "python",
   "pygments_lexer": "ipython3",
   "version": "3.11.7"
  }
 },
 "nbformat": 4,
 "nbformat_minor": 5
}
