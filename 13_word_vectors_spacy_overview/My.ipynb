{
 "cells": [
  {
   "cell_type": "code",
   "execution_count": 33,
   "id": "8c8d44b2-7005-4fa0-9918-b9c858c339be",
   "metadata": {},
   "outputs": [],
   "source": [
    "import spacy"
   ]
  },
  {
   "cell_type": "code",
   "execution_count": 35,
   "id": "0213db4f-c1b4-450a-a7a5-1bb9a6167daf",
   "metadata": {},
   "outputs": [],
   "source": [
    "nlp = spacy.load('en_core_web_lg')"
   ]
  },
  {
   "cell_type": "code",
   "execution_count": 36,
   "id": "508d211e-4a48-4e0f-b682-7c12575dee36",
   "metadata": {},
   "outputs": [],
   "source": [
    "doc = nlp('dog cat banana rohan')"
   ]
  },
  {
   "cell_type": "code",
   "execution_count": 37,
   "id": "ecc1b727-5a6f-4ad5-9a48-46bac0d337c2",
   "metadata": {},
   "outputs": [
    {
     "name": "stdout",
     "output_type": "stream",
     "text": [
      "dog True False\n",
      "cat True False\n",
      "banana True False\n",
      "rohan True False\n"
     ]
    }
   ],
   "source": [
    "for token in doc:\n",
    "    print(token, token.has_vector, token.is_oov)"
   ]
  },
  {
   "cell_type": "code",
   "execution_count": 38,
   "id": "37f3ba47-b952-4808-a6df-ae5c89b1b581",
   "metadata": {},
   "outputs": [
    {
     "data": {
      "text/plain": [
       "(300,)"
      ]
     },
     "execution_count": 38,
     "metadata": {},
     "output_type": "execute_result"
    }
   ],
   "source": [
    "doc[0].vector.shape"
   ]
  },
  {
   "cell_type": "code",
   "execution_count": 43,
   "id": "ee12af0b-1c40-40bf-b587-90160e782a05",
   "metadata": {},
   "outputs": [
    {
     "data": {
      "text/plain": [
       "(300,)"
      ]
     },
     "execution_count": 43,
     "metadata": {},
     "output_type": "execute_result"
    }
   ],
   "source": [
    "base_token = nlp('bread')\n",
    "base_token.vector.shape"
   ]
  },
  {
   "cell_type": "code",
   "execution_count": 45,
   "id": "653bc2b0-9bfb-495f-9160-7ed2e88a0890",
   "metadata": {},
   "outputs": [
    {
     "name": "stdout",
     "output_type": "stream",
     "text": [
      "bread <-> bread: 1.0000000681995158\n",
      "sandwitch <-> bread: 0.0\n",
      "burger <-> bread: 0.47520687769584247\n",
      "car <-> bread: 0.06451532596945217\n",
      "tiger <-> bread: 0.04764612079317772\n",
      "human <-> bread: 0.2151154210812192\n",
      "wheat <-> bread: 0.615036141030184\n"
     ]
    },
    {
     "name": "stderr",
     "output_type": "stream",
     "text": [
      "/var/folders/9b/wf1y_2qd3ln304vbv4psvbz80000gp/T/ipykernel_72659/1155664320.py:3: UserWarning: [W008] Evaluating Token.similarity based on empty vectors.\n",
      "  print(f'{token.text} <-> {base_token.text}:', token.similarity(base_token))\n"
     ]
    }
   ],
   "source": [
    "doc = nlp('bread sandwitch burger car tiger human wheat')\n",
    "for token in doc:\n",
    "    print(f'{token.text} <-> {base_token.text}:', token.similarity(base_token))"
   ]
  },
  {
   "cell_type": "code",
   "execution_count": 48,
   "id": "8a133772-aaea-473b-9185-1409074fee66",
   "metadata": {},
   "outputs": [],
   "source": [
    "def print_similarity(base_word, words_to_compare):\n",
    "    base_token = nlp(base_word)\n",
    "    doc = nlp(words_to_compare)\n",
    "    for token in doc:\n",
    "        print(f'{token.text} <-> {base_token.text}:', token.similarity(base_token))"
   ]
  },
  {
   "cell_type": "code",
   "execution_count": 50,
   "id": "56fa97e3-b868-46e9-a626-bcee975dee56",
   "metadata": {},
   "outputs": [
    {
     "name": "stdout",
     "output_type": "stream",
     "text": [
      "apple <-> iphone: 0.4387907401919904\n",
      "orange <-> iphone: 0.21838781664729043\n",
      "kitten <-> iphone: 0.10222319084362265\n",
      "samsung <-> iphone: 0.6708590303423401\n",
      "galaxy <-> iphone: 0.16518700852069895\n"
     ]
    }
   ],
   "source": [
    "print_similarity('iphone', \"apple orange kitten samsung galaxy\")"
   ]
  },
  {
   "cell_type": "code",
   "execution_count": 52,
   "id": "745b1d63-667f-46bd-8383-1913cb5e53a9",
   "metadata": {},
   "outputs": [],
   "source": [
    "king = nlp.vocab['king'].vector\n",
    "man = nlp.vocab['man'].vector\n",
    "woman = nlp.vocab['woman'].vector\n",
    "queen = nlp.vocab['queen'].vector\n",
    "\n",
    "result = king - queen + woman"
   ]
  },
  {
   "cell_type": "code",
   "execution_count": null,
   "id": "7b1bfe47-1f1d-4edf-a3c2-341a56ae844b",
   "metadata": {},
   "outputs": [],
   "source": [
    "from sklearn.metrics.pairwise import cosine_similarity\n",
    "\n",
    "cosine_similarity([re])"
   ]
  }
 ],
 "metadata": {
  "kernelspec": {
   "display_name": "Python 3 (ipykernel)",
   "language": "python",
   "name": "python3"
  },
  "language_info": {
   "codemirror_mode": {
    "name": "ipython",
    "version": 3
   },
   "file_extension": ".py",
   "mimetype": "text/x-python",
   "name": "python",
   "nbconvert_exporter": "python",
   "pygments_lexer": "ipython3",
   "version": "3.11.7"
  }
 },
 "nbformat": 4,
 "nbformat_minor": 5
}
