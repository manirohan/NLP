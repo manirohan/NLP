{
 "cells": [
  {
   "cell_type": "code",
   "execution_count": 4,
   "id": "ab98451b",
   "metadata": {},
   "outputs": [
    {
     "name": "stdout",
     "output_type": "stream",
     "text": [
      "Results saved to 'results.csv'\n",
      "Showing images is not supported in this environment: OpenCV(4.10.0) :-1: error: (-5:Bad argument) in function 'rectangle'\n",
      "> Overload resolution failed:\n",
      ">  - img marked as output argument, but provided NumPy array marked as readonly\n",
      ">  - Expected Ptr<cv::UMat> for argument 'img'\n",
      ">  - argument for rectangle() given by name ('thickness') and position (4)\n",
      ">  - argument for rectangle() given by name ('thickness') and position (4)\n",
      "\n",
      "Error during inference: OpenCV(4.10.0) :-1: error: (-5:Bad argument) in function 'rectangle'\n",
      "> Overload resolution failed:\n",
      ">  - img marked as output argument, but provided NumPy array marked as readonly\n",
      ">  - Expected Ptr<cv::UMat> for argument 'img'\n",
      ">  - argument for rectangle() given by name ('thickness') and position (4)\n",
      ">  - argument for rectangle() given by name ('thickness') and position (4)\n",
      "\n"
     ]
    }
   ],
   "source": [
    "import yolov5\n",
    "import torch\n",
    "import pandas as pd\n",
    "\n",
    "# Load pretrained model\n",
    "model = yolov5.load('yolov5s.pt')\n",
    "\n",
    "# Move model to GPU if available\n",
    "device = 'cuda' if torch.cuda.is_available() else 'cpu'\n",
    "model.to(device)\n",
    "\n",
    "# Set model parameters\n",
    "model.conf = 0.25\n",
    "model.iou = 0.45\n",
    "model.agnostic = False\n",
    "model.multi_label = False\n",
    "model.max_det = 1000\n",
    "\n",
    "# Set image\n",
    "img = 'https://github.com/ultralytics/yolov5/raw/master/data/images/zidane.jpg'\n",
    "\n",
    "# Perform inference\n",
    "try:\n",
    "    results = model(img)\n",
    "    predictions = results.pred[0]\n",
    "    boxes = predictions[:, :4]  # x1, y1, x2, y2\n",
    "    scores = predictions[:, 4]\n",
    "    categories = predictions[:, 5]\n",
    "    \n",
    "    # Map category IDs to class names\n",
    "    class_names = model.names\n",
    "    categories_named = [class_names[int(cat)] for cat in categories]\n",
    "    \n",
    "    # Save results as a CSV\n",
    "    df = pd.DataFrame({'x1': boxes[:, 0].cpu().numpy(), \n",
    "                       'y1': boxes[:, 1].cpu().numpy(),\n",
    "                       'x2': boxes[:, 2].cpu().numpy(), \n",
    "                       'y2': boxes[:, 3].cpu().numpy(),\n",
    "                       'score': scores.cpu().numpy(), \n",
    "                       'category': categories_named})\n",
    "    df.to_csv('results.csv', index=False)\n",
    "    print(\"Results saved to 'results.csv'\")\n",
    "    \n",
    "    # Display and save visual results\n",
    "    results.show()\n",
    "    results.save(save_dir='results/')\n",
    "except Exception as e:\n",
    "    print(f\"Error during inference: {e}\")\n"
   ]
  },
  {
   "cell_type": "code",
   "execution_count": 6,
   "id": "57a4eba2",
   "metadata": {},
   "outputs": [],
   "source": [
    "import pandas as pd\n",
    "df = pd.read_csv('results.csv')"
   ]
  },
  {
   "cell_type": "code",
   "execution_count": 7,
   "id": "ebbdc701",
   "metadata": {},
   "outputs": [
    {
     "data": {
      "text/html": [
       "<div>\n",
       "<style scoped>\n",
       "    .dataframe tbody tr th:only-of-type {\n",
       "        vertical-align: middle;\n",
       "    }\n",
       "\n",
       "    .dataframe tbody tr th {\n",
       "        vertical-align: top;\n",
       "    }\n",
       "\n",
       "    .dataframe thead th {\n",
       "        text-align: right;\n",
       "    }\n",
       "</style>\n",
       "<table border=\"1\" class=\"dataframe\">\n",
       "  <thead>\n",
       "    <tr style=\"text-align: right;\">\n",
       "      <th></th>\n",
       "      <th>x1</th>\n",
       "      <th>y1</th>\n",
       "      <th>x2</th>\n",
       "      <th>y2</th>\n",
       "      <th>score</th>\n",
       "      <th>category</th>\n",
       "    </tr>\n",
       "  </thead>\n",
       "  <tbody>\n",
       "    <tr>\n",
       "      <th>0</th>\n",
       "      <td>742.97473</td>\n",
       "      <td>48.39569</td>\n",
       "      <td>1141.84460</td>\n",
       "      <td>720.00000</td>\n",
       "      <td>0.881052</td>\n",
       "      <td>person</td>\n",
       "    </tr>\n",
       "    <tr>\n",
       "      <th>1</th>\n",
       "      <td>442.00763</td>\n",
       "      <td>437.52243</td>\n",
       "      <td>496.65400</td>\n",
       "      <td>709.97350</td>\n",
       "      <td>0.675213</td>\n",
       "      <td>tie</td>\n",
       "    </tr>\n",
       "    <tr>\n",
       "      <th>2</th>\n",
       "      <td>123.02432</td>\n",
       "      <td>193.28717</td>\n",
       "      <td>715.66174</td>\n",
       "      <td>719.72406</td>\n",
       "      <td>0.665815</td>\n",
       "      <td>person</td>\n",
       "    </tr>\n",
       "    <tr>\n",
       "      <th>3</th>\n",
       "      <td>982.80310</td>\n",
       "      <td>308.41736</td>\n",
       "      <td>1027.36580</td>\n",
       "      <td>419.98706</td>\n",
       "      <td>0.260075</td>\n",
       "      <td>tie</td>\n",
       "    </tr>\n",
       "  </tbody>\n",
       "</table>\n",
       "</div>"
      ],
      "text/plain": [
       "          x1         y1          x2         y2     score category\n",
       "0  742.97473   48.39569  1141.84460  720.00000  0.881052   person\n",
       "1  442.00763  437.52243   496.65400  709.97350  0.675213      tie\n",
       "2  123.02432  193.28717   715.66174  719.72406  0.665815   person\n",
       "3  982.80310  308.41736  1027.36580  419.98706  0.260075      tie"
      ]
     },
     "execution_count": 7,
     "metadata": {},
     "output_type": "execute_result"
    }
   ],
   "source": [
    "df"
   ]
  }
 ],
 "metadata": {
  "kernelspec": {
   "display_name": "Python 3 (ipykernel)",
   "language": "python",
   "name": "python3"
  },
  "language_info": {
   "codemirror_mode": {
    "name": "ipython",
    "version": 3
   },
   "file_extension": ".py",
   "mimetype": "text/x-python",
   "name": "python",
   "nbconvert_exporter": "python",
   "pygments_lexer": "ipython3",
   "version": "3.11.7"
  }
 },
 "nbformat": 4,
 "nbformat_minor": 5
}
