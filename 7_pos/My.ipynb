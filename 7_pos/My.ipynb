{
 "cells": [
  {
   "cell_type": "code",
   "execution_count": 1,
   "id": "e24fd8a4-262f-4722-8c93-af34070ac3b4",
   "metadata": {},
   "outputs": [],
   "source": [
    "import spacy"
   ]
  },
  {
   "cell_type": "code",
   "execution_count": 3,
   "id": "1478288a-f64f-4604-b121-55b44c99e4ae",
   "metadata": {},
   "outputs": [],
   "source": [
    "nlp = spacy.load('en_core_web_sm')"
   ]
  },
  {
   "cell_type": "code",
   "execution_count": 13,
   "id": "16f40460-4fa9-4972-a2f5-4f867364a336",
   "metadata": {},
   "outputs": [
    {
     "name": "stdout",
     "output_type": "stream",
     "text": [
      "Elon  -  PROPN  -  proper noun  -  NNP  -  noun, proper singular\n",
      "!  -  PUNCT  -  punctuation  -  .  -  punctuation mark, sentence closer\n",
      "flew  -  VERB  -  verb  -  VBD  -  verb, past tense\n",
      "to  -  ADP  -  adposition  -  IN  -  conjunction, subordinating or preposition\n",
      "mars  -  NOUN  -  noun  -  NNS  -  noun, plural\n",
      "yesterday  -  NOUN  -  noun  -  NN  -  noun, singular or mass\n",
      ".  -  PUNCT  -  punctuation  -  .  -  punctuation mark, sentence closer\n",
      "He  -  PRON  -  pronoun  -  PRP  -  pronoun, personal\n",
      "carried  -  VERB  -  verb  -  VBD  -  verb, past tense\n",
      "biryani  -  ADJ  -  adjective  -  JJ  -  adjective (English), other noun-modifier (Chinese)\n",
      "masala  -  NOUN  -  noun  -  NN  -  noun, singular or mass\n",
      "with  -  ADP  -  adposition  -  IN  -  conjunction, subordinating or preposition\n",
      "him  -  PRON  -  pronoun  -  PRP  -  pronoun, personal\n"
     ]
    }
   ],
   "source": [
    "doc = nlp(\"Elon! flew to mars yesterday. He carried biryani masala with him\")\n",
    "\n",
    "for token in doc:\n",
    "    print(token,' - ',token.pos_,' - ', spacy.explain(token.pos_),' - ',token.tag_,' - ',spacy.explain(token.tag_))"
   ]
  },
  {
   "cell_type": "code",
   "execution_count": 17,
   "id": "d31cd559-5308-411f-b999-ff0f6912cf3f",
   "metadata": {},
   "outputs": [],
   "source": [
    "earnings_text=\"\"\"Microsoft Corp. today announced the following results for the quarter ended December 31, 2021, as compared to the corresponding period of last fiscal year:\n",
    "\n",
    "·         Revenue was $51.7 billion and increased 20%\n",
    "·         Operating income was $22.2 billion and increased 24%\n",
    "·         Net income was $18.8 billion and increased 21%\n",
    "·         Diluted earnings per share was $2.48 and increased 22%\n",
    "“Digital technology is the most malleable resource at the world’s disposal to overcome constraints and reimagine everyday work and life,” said Satya Nadella, chairman and chief executive officer of Microsoft. “As tech as a percentage of global GDP continues to increase, we are innovating and investing across diverse and growing markets, with a common underlying technology stack and an operating model that reinforces a common strategy, culture, and sense of purpose.”\n",
    "“Solid commercial execution, represented by strong bookings growth driven by long-term Azure commitments, increased Microsoft Cloud revenue to $22.1 billion, up 32% year over year” said Amy Hood, executive vice president and chief financial officer of Microsoft.\"\"\"\n",
    "\n",
    "doc = nlp(earnings_text)\n"
   ]
  },
  {
   "cell_type": "code",
   "execution_count": 35,
   "id": "3c865f18-3f47-45a8-99ff-ee54ce99c5ad",
   "metadata": {},
   "outputs": [
    {
     "data": {
      "text/plain": [
       "[(Microsoft, 'PROPN'),\n",
       " (Corp., 'PROPN'),\n",
       " (today, 'NOUN'),\n",
       " (announced, 'VERB'),\n",
       " (the, 'DET'),\n",
       " (following, 'VERB'),\n",
       " (results, 'NOUN'),\n",
       " (for, 'ADP'),\n",
       " (the, 'DET'),\n",
       " (quarter, 'NOUN'),\n",
       " (ended, 'VERB'),\n",
       " (December, 'PROPN'),\n",
       " (31, 'NUM'),\n",
       " (2021, 'NUM'),\n",
       " (as, 'SCONJ'),\n",
       " (compared, 'VERB'),\n",
       " (to, 'ADP'),\n",
       " (the, 'DET'),\n",
       " (corresponding, 'ADJ'),\n",
       " (period, 'NOUN'),\n",
       " (of, 'ADP'),\n",
       " (last, 'ADJ'),\n",
       " (fiscal, 'ADJ'),\n",
       " (year, 'NOUN'),\n",
       " (Revenue, 'NOUN'),\n",
       " (was, 'AUX'),\n",
       " ($, 'SYM'),\n",
       " (51.7, 'NUM'),\n",
       " (billion, 'NUM'),\n",
       " (and, 'CCONJ'),\n",
       " (increased, 'VERB'),\n",
       " (20, 'NUM'),\n",
       " (%, 'NOUN'),\n",
       " (Operating, 'VERB'),\n",
       " (income, 'NOUN'),\n",
       " (was, 'AUX'),\n",
       " ($, 'SYM'),\n",
       " (22.2, 'NUM'),\n",
       " (billion, 'NUM'),\n",
       " (and, 'CCONJ'),\n",
       " (increased, 'VERB'),\n",
       " (24, 'NUM'),\n",
       " (%, 'NOUN'),\n",
       " (Net, 'ADJ'),\n",
       " (income, 'NOUN'),\n",
       " (was, 'AUX'),\n",
       " ($, 'SYM'),\n",
       " (18.8, 'NUM'),\n",
       " (billion, 'NUM'),\n",
       " (and, 'CCONJ'),\n",
       " (increased, 'VERB'),\n",
       " (21, 'NUM'),\n",
       " (%, 'NOUN'),\n",
       " (Diluted, 'VERB'),\n",
       " (earnings, 'NOUN'),\n",
       " (per, 'ADP'),\n",
       " (share, 'NOUN'),\n",
       " (was, 'AUX'),\n",
       " ($, 'SYM'),\n",
       " (2.48, 'NUM'),\n",
       " (and, 'CCONJ'),\n",
       " (increased, 'VERB'),\n",
       " (22, 'NUM'),\n",
       " (%, 'NOUN'),\n",
       " (Digital, 'PROPN'),\n",
       " (technology, 'NOUN'),\n",
       " (is, 'AUX'),\n",
       " (the, 'DET'),\n",
       " (most, 'ADV'),\n",
       " (malleable, 'ADJ'),\n",
       " (resource, 'NOUN'),\n",
       " (at, 'ADP'),\n",
       " (the, 'DET'),\n",
       " (world, 'NOUN'),\n",
       " (’s, 'PART'),\n",
       " (disposal, 'NOUN'),\n",
       " (to, 'PART'),\n",
       " (overcome, 'VERB'),\n",
       " (constraints, 'NOUN'),\n",
       " (and, 'CCONJ'),\n",
       " (reimagine, 'VERB'),\n",
       " (everyday, 'ADJ'),\n",
       " (work, 'NOUN'),\n",
       " (and, 'CCONJ'),\n",
       " (life, 'NOUN'),\n",
       " (said, 'VERB'),\n",
       " (Satya, 'PROPN'),\n",
       " (Nadella, 'PROPN'),\n",
       " (chairman, 'NOUN'),\n",
       " (and, 'CCONJ'),\n",
       " (chief, 'ADJ'),\n",
       " (executive, 'ADJ'),\n",
       " (officer, 'NOUN'),\n",
       " (of, 'ADP'),\n",
       " (Microsoft, 'PROPN'),\n",
       " (As, 'ADV'),\n",
       " (tech, 'NOUN'),\n",
       " (as, 'ADP'),\n",
       " (a, 'DET'),\n",
       " (percentage, 'NOUN'),\n",
       " (of, 'ADP'),\n",
       " (global, 'ADJ'),\n",
       " (GDP, 'PROPN'),\n",
       " (continues, 'VERB'),\n",
       " (to, 'PART'),\n",
       " (increase, 'VERB'),\n",
       " (we, 'PRON'),\n",
       " (are, 'AUX'),\n",
       " (innovating, 'VERB'),\n",
       " (and, 'CCONJ'),\n",
       " (investing, 'VERB'),\n",
       " (across, 'ADP'),\n",
       " (diverse, 'ADJ'),\n",
       " (and, 'CCONJ'),\n",
       " (growing, 'VERB'),\n",
       " (markets, 'NOUN'),\n",
       " (with, 'ADP'),\n",
       " (a, 'DET'),\n",
       " (common, 'ADJ'),\n",
       " (underlying, 'VERB'),\n",
       " (technology, 'NOUN'),\n",
       " (stack, 'NOUN'),\n",
       " (and, 'CCONJ'),\n",
       " (an, 'DET'),\n",
       " (operating, 'NOUN'),\n",
       " (model, 'NOUN'),\n",
       " (that, 'PRON'),\n",
       " (reinforces, 'VERB'),\n",
       " (a, 'DET'),\n",
       " (common, 'ADJ'),\n",
       " (strategy, 'NOUN'),\n",
       " (culture, 'NOUN'),\n",
       " (and, 'CCONJ'),\n",
       " (sense, 'NOUN'),\n",
       " (of, 'ADP'),\n",
       " (purpose, 'NOUN'),\n",
       " (Solid, 'ADJ'),\n",
       " (commercial, 'ADJ'),\n",
       " (execution, 'NOUN'),\n",
       " (represented, 'VERB'),\n",
       " (by, 'ADP'),\n",
       " (strong, 'ADJ'),\n",
       " (bookings, 'NOUN'),\n",
       " (growth, 'NOUN'),\n",
       " (driven, 'VERB'),\n",
       " (by, 'ADP'),\n",
       " (long, 'ADJ'),\n",
       " (term, 'NOUN'),\n",
       " (Azure, 'ADJ'),\n",
       " (commitments, 'NOUN'),\n",
       " (increased, 'VERB'),\n",
       " (Microsoft, 'PROPN'),\n",
       " (Cloud, 'PROPN'),\n",
       " (revenue, 'NOUN'),\n",
       " (to, 'ADP'),\n",
       " ($, 'SYM'),\n",
       " (22.1, 'NUM'),\n",
       " (billion, 'NUM'),\n",
       " (up, 'ADV'),\n",
       " (32, 'NUM'),\n",
       " (%, 'NOUN'),\n",
       " (year, 'NOUN'),\n",
       " (over, 'ADP'),\n",
       " (year, 'NOUN'),\n",
       " (said, 'VERB'),\n",
       " (Amy, 'PROPN'),\n",
       " (Hood, 'PROPN'),\n",
       " (executive, 'ADJ'),\n",
       " (vice, 'NOUN'),\n",
       " (president, 'NOUN'),\n",
       " (and, 'CCONJ'),\n",
       " (chief, 'ADJ'),\n",
       " (financial, 'ADJ'),\n",
       " (officer, 'NOUN'),\n",
       " (of, 'ADP'),\n",
       " (Microsoft, 'PROPN')]"
      ]
     },
     "execution_count": 35,
     "metadata": {},
     "output_type": "execute_result"
    }
   ],
   "source": [
    "filtered_tokens = [(token,token.pos_) for token in doc if token.pos_ not in (['SPACE','X','PUNCT'])]\n",
    "\n",
    "filtered_tokens"
   ]
  },
  {
   "cell_type": "code",
   "execution_count": 45,
   "id": "2633f733-8c9b-4033-9280-529aa16c8842",
   "metadata": {},
   "outputs": [],
   "source": [
    "counts = doc.count_by(spacy.attrs.POS)"
   ]
  },
  {
   "cell_type": "code",
   "execution_count": 51,
   "id": "b342a064-8e65-4783-af51-91de9d34daef",
   "metadata": {},
   "outputs": [
    {
     "data": {
      "text/plain": [
       "dict_items([(96, 13), (92, 46), (100, 24), (90, 9), (85, 16), (93, 16), (97, 27), (98, 1), (84, 20), (103, 10), (87, 6), (99, 5), (89, 12), (86, 3), (94, 3), (95, 2)])"
      ]
     },
     "execution_count": 51,
     "metadata": {},
     "output_type": "execute_result"
    }
   ],
   "source": [
    "counts.items()"
   ]
  },
  {
   "cell_type": "code",
   "execution_count": 43,
   "id": "64f57021-6ba3-426c-82c7-0a86d2856fb6",
   "metadata": {},
   "outputs": [
    {
     "data": {
      "text/plain": [
       "'PROPN'"
      ]
     },
     "execution_count": 43,
     "metadata": {},
     "output_type": "execute_result"
    }
   ],
   "source": [
    "doc.vocab[96].text"
   ]
  },
  {
   "cell_type": "code",
   "execution_count": 53,
   "id": "dd73d32b-690b-47d1-8dfb-b045f18760fd",
   "metadata": {},
   "outputs": [
    {
     "name": "stdout",
     "output_type": "stream",
     "text": [
      "PROPN 13\n",
      "NOUN 46\n",
      "VERB 24\n",
      "DET 9\n",
      "ADP 16\n",
      "NUM 16\n",
      "PUNCT 27\n",
      "SCONJ 1\n",
      "ADJ 20\n",
      "SPACE 10\n",
      "AUX 6\n",
      "SYM 5\n",
      "CCONJ 12\n",
      "ADV 3\n",
      "PART 3\n",
      "PRON 2\n"
     ]
    }
   ],
   "source": [
    "for k,v in counts.items():\n",
    "    print(doc.vocab[k].text, v)"
   ]
  },
  {
   "cell_type": "code",
   "execution_count": 23,
   "id": "306eb048-4cdb-45e6-9d5a-dda4cd21ecf1",
   "metadata": {},
   "outputs": [
    {
     "name": "stdout",
     "output_type": "stream",
     "text": [
      "Microsoft Corp. ORG\n",
      "today DATE\n",
      "the quarter ended December 31, 2021 DATE\n",
      "last fiscal year DATE\n",
      "$51.7 billion MONEY\n",
      "20% PERCENT\n",
      "$22.2 billion MONEY\n",
      "24% PERCENT\n",
      "$18.8 billion MONEY\n",
      "21% PERCENT\n",
      "2.48 MONEY\n",
      "22% PERCENT\n",
      "Digital ORG\n",
      "Satya Nadella PERSON\n",
      "Microsoft ORG\n",
      "Microsoft ORG\n",
      "$22.1 billion MONEY\n",
      "32% PERCENT\n",
      "year over year DATE\n",
      "Amy Hood PERSON\n",
      "Microsoft ORG\n"
     ]
    }
   ],
   "source": [
    "for ent in doc.ents:\n",
    "    print(ent, ent.label_)"
   ]
  },
  {
   "cell_type": "code",
   "execution_count": 57,
   "id": "25f7f361-d455-4a12-8a01-b658250f55af",
   "metadata": {},
   "outputs": [
    {
     "name": "stdout",
     "output_type": "stream",
     "text": [
      "Inflation rose again in April, continuing a climb that has pushed consumers to the brink and is threatening the economic expansion, the Bureau of Labor Statistics reported Wednesday.\n",
      "\n",
      "The consumer price index, a broad-based measure of prices for goods and services, increased 8.3% from a year ago, higher than the Dow Jones estimate for an 8.1% gain. That represented a slight ease from March’s peak but was still close to the highest level since the summer of 1982.\n",
      "\n",
      "Removing volatile food and energy prices, so-called core CPI still rose 6.2%, against expectations for a 6% gain, clouding hopes that inflation had peaked in March.\n",
      "\n",
      "The month-over-month gains also were higher than expectations — 0.3% on headline CPI versus the 0.2% estimate and a 0.6% increase for core, against the outlook for a 0.4% gain.\n",
      "\n",
      "The price gains also meant that workers continued to lose ground. Real wages adjusted for inflation decreased 0.1% on the month despite a nominal increase of 0.3% in average hourly earnings. Over the past year, real earnings have dropped 2.6% even though average hourly earnings are up 5.5%.\n",
      "\n",
      "Inflation has been the single biggest threat to a recovery that began early in the Covid pandemic and saw the economy in 2021 stage its biggest single-year growth level since 1984. Rising prices at the pump and in grocery stores have been one problem, but inflation has spread beyond those two areas into housing, auto sales and a host of other areas.\n",
      "\n",
      "Federal Reserve officials have responded to the problem with two interest rate hikes so far this year and pledges of more until inflation comes down to the central bank’s 2% goal. However, Wednesday’s data shows that the Fed has a big job ahead.\n",
      "\n",
      "Credits: cnbc.com\n"
     ]
    }
   ],
   "source": [
    "with open(\"news_story.txt\", \"r\") as file:\n",
    "    content = file.read()\n",
    "print(content)\n"
   ]
  },
  {
   "cell_type": "code",
   "execution_count": 59,
   "id": "9f544963-4bd7-4e16-92cc-39d6b5badf76",
   "metadata": {},
   "outputs": [],
   "source": [
    "doc = nlp(content)"
   ]
  },
  {
   "cell_type": "code",
   "execution_count": 63,
   "id": "54c0b620-460e-4723-9ed7-53bbfb015193",
   "metadata": {},
   "outputs": [
    {
     "name": "stdout",
     "output_type": "stream",
     "text": [
      "NOUN 96\n",
      "VERB 27\n",
      "ADV 15\n",
      "ADP 39\n",
      "PROPN 16\n",
      "PUNCT 32\n",
      "DET 34\n",
      "PRON 4\n",
      "AUX 13\n",
      "CCONJ 10\n",
      "ADJ 23\n",
      "SPACE 7\n",
      "NUM 19\n",
      "PART 4\n",
      "SCONJ 8\n",
      "X 1\n"
     ]
    }
   ],
   "source": [
    "counts = doc.count_by(spacy.attrs.POS)\n",
    "\n",
    "for k,v in counts.items():\n",
    "    print(doc.vocab[k].text, v)"
   ]
  },
  {
   "cell_type": "code",
   "execution_count": 75,
   "id": "1c2cf3d8-531d-4ed6-9b5b-c89646af855b",
   "metadata": {},
   "outputs": [
    {
     "data": {
      "text/plain": [
       "[Inflation,\n",
       " April,\n",
       " climb,\n",
       " consumers,\n",
       " brink,\n",
       " expansion,\n",
       " Bureau,\n",
       " Labor,\n",
       " Statistics,\n",
       " Wednesday,\n",
       " consumer,\n",
       " price,\n",
       " index,\n",
       " measure,\n",
       " prices,\n",
       " goods,\n",
       " services,\n",
       " %,\n",
       " year,\n",
       " Dow,\n",
       " Jones,\n",
       " estimate,\n",
       " %,\n",
       " gain,\n",
       " ease,\n",
       " March,\n",
       " peak,\n",
       " level,\n",
       " summer,\n",
       " food,\n",
       " energy,\n",
       " prices,\n",
       " core,\n",
       " CPI,\n",
       " %,\n",
       " expectations,\n",
       " %,\n",
       " gain,\n",
       " hopes,\n",
       " inflation,\n",
       " March,\n",
       " month,\n",
       " month,\n",
       " gains,\n",
       " expectations,\n",
       " %,\n",
       " headline,\n",
       " CPI,\n",
       " %,\n",
       " estimate,\n",
       " %,\n",
       " increase,\n",
       " core,\n",
       " outlook,\n",
       " %,\n",
       " gain,\n",
       " price,\n",
       " gains,\n",
       " workers,\n",
       " ground,\n",
       " wages,\n",
       " inflation,\n",
       " %,\n",
       " month,\n",
       " increase,\n",
       " %,\n",
       " earnings,\n",
       " year,\n",
       " earnings,\n",
       " %,\n",
       " earnings,\n",
       " %,\n",
       " Inflation,\n",
       " threat,\n",
       " recovery,\n",
       " Covid,\n",
       " pandemic,\n",
       " economy,\n",
       " stage,\n",
       " year,\n",
       " growth,\n",
       " level,\n",
       " prices,\n",
       " pump,\n",
       " grocery,\n",
       " stores,\n",
       " problem,\n",
       " inflation,\n",
       " areas,\n",
       " housing,\n",
       " auto,\n",
       " sales,\n",
       " host,\n",
       " areas,\n",
       " Federal,\n",
       " Reserve,\n",
       " officials,\n",
       " problem,\n",
       " interest,\n",
       " rate,\n",
       " hikes,\n",
       " year,\n",
       " pledges,\n",
       " inflation,\n",
       " bank,\n",
       " %,\n",
       " goal,\n",
       " Wednesday,\n",
       " data,\n",
       " Fed,\n",
       " job,\n",
       " Credits]"
      ]
     },
     "execution_count": 75,
     "metadata": {},
     "output_type": "execute_result"
    }
   ],
   "source": [
    "[token for token in doc if token.pos_ in (['NOUN','PROPN'])]"
   ]
  },
  {
   "cell_type": "code",
   "execution_count": 77,
   "id": "4becbbd9-e055-4d69-8491-05381d68fcf9",
   "metadata": {},
   "outputs": [
    {
     "data": {
      "text/plain": [
       "[8.3,\n",
       " 8.1,\n",
       " 1982,\n",
       " 6.2,\n",
       " 6,\n",
       " 0.3,\n",
       " 0.2,\n",
       " 0.6,\n",
       " 0.4,\n",
       " 0.1,\n",
       " 0.3,\n",
       " 2.6,\n",
       " 5.5,\n",
       " 2021,\n",
       " 1984,\n",
       " one,\n",
       " two,\n",
       " two,\n",
       " 2]"
      ]
     },
     "execution_count": 77,
     "metadata": {},
     "output_type": "execute_result"
    }
   ],
   "source": [
    "[token for token in doc if token.pos_ in (['NUM'])]"
   ]
  },
  {
   "cell_type": "code",
   "execution_count": null,
   "id": "5957c5ff-6c6b-4089-8831-84392743cde0",
   "metadata": {},
   "outputs": [],
   "source": []
  }
 ],
 "metadata": {
  "kernelspec": {
   "display_name": "Python 3 (ipykernel)",
   "language": "python",
   "name": "python3"
  },
  "language_info": {
   "codemirror_mode": {
    "name": "ipython",
    "version": 3
   },
   "file_extension": ".py",
   "mimetype": "text/x-python",
   "name": "python",
   "nbconvert_exporter": "python",
   "pygments_lexer": "ipython3",
   "version": "3.11.7"
  }
 },
 "nbformat": 4,
 "nbformat_minor": 5
}
